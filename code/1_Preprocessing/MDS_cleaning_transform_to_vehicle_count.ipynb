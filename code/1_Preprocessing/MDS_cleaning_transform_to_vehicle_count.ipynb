{
 "cells": [
  {
   "cell_type": "code",
   "execution_count": 29,
   "metadata": {},
   "outputs": [],
   "source": [
    "import pandas as pd\n",
    "import geopandas as gpd\n",
    "import numpy as np\n",
    "import datetime\n",
    "import ast\n",
    "import re\n",
    "import shapely\n",
    "from dateutil import parser"
   ]
  },
  {
   "cell_type": "markdown",
   "metadata": {},
   "source": [
    "## Documentation"
   ]
  },
  {
   "cell_type": "markdown",
   "metadata": {},
   "source": [
    "### Methodology\n",
    "#### 1. Create and initialize an output dataframe to be filled later: \n",
    "A dataframe with the schema [minute_local | hex_id | vehicle_count]. The `minute_local` column values span the date range covered by the MDS data and the *time of day* range defined as an arg by the user.\n",
    "\n",
    "#### 2. Process MDS trips of each vehicle separately:\n",
    "##### 2.1. Invert the trip's occupied time into the idle periods:\n",
    "And idle period has the following schema: [vehicle_id, start_time, end_time, location]\n",
    "The idle period starts at the `end_time` of a trip (i) and ends at the `start_time` of the following trip (i+1). Its location is the last point along the route of trip (i).\n",
    "The assumption is that whenever a trip is idle, it is considered rentable.\n",
    "##### 2.2. Process idle time instances:\n",
    "A trip may end on one day, and the following trip starts one or more days later. We cannot be sure whether the vehicle was actually available for rent during that time or maybe taken out of service for maintenance.\n",
    "This processing step replace idle times that span multiple days with two instances, as the following example illustrates:\n",
    "\n",
    "Given an idle period \n",
    "| vehicle_id | start_time          | end_time            | location |\n",
    "|------------|---------------------|---------------------|----------|\n",
    "| V_1        | 2021-10-22 19:00:00 | 2021-10-25 08:00:00 | L_1      |\n",
    "                                |\n",
    "                                V\n",
    "It is transformed to two rows:\n",
    "| vehicle_id | start_time          | end_time            | location |\n",
    "|------------|---------------------|---------------------|----------|\n",
    "| V_1        | 2021-10-22 19:00:00 | 2021-10-22 23:59:00 | L_1      |\n",
    "| V_1        | 2021-10-25 00:00:00 | 2021-10-25 08:00:00 | L_1      |\n",
    "\n",
    "##### 2.3. Spatially join idle period location with zones\n",
    "##### 2.4. Convert idle period to output format:\n",
    "Given:\n",
    "- idle period matched spatially with a zone Z_1\n",
    "- User selects time of day window 07:00 -> 09:00\n",
    "\n",
    "| vehicle_id | start_time          | end_time            | location | zone_id |\n",
    "|------------|---------------------|---------------------|----------|---------|\n",
    "| V_1        | 2021-10-22 06:00:00 | 2021-10-22 07:20:00 | L_1      | Z_1     |\n",
    "\n",
    "                                |\n",
    "                                V\n",
    "It's transformed into:\n",
    "| minute_local        | zone_id | vehicle_id |\n",
    "|---------------------|---------|------------|\n",
    "| 2021-10-22 07:00:00 | Z_1     | V_1        |\n",
    "| 2021-10-22 07:01:00 | Z_1     | V_1        |\n",
    "| ...                 |         |            |\n",
    "| 2021-10-22 07:20:00 | Z_1     | V_1        |\n",
    "\n",
    "#### 3. Aggregate output per zone per minute:\n",
    "\n",
    "Get the count of vehicles per zone per minute.\n",
    "| minute_local        | zone_id | rentable_scooter_count |\n",
    "|---------------------|---------|------------------------|\n",
    "| 2021-10-22 07:00:00 | Z_1     | 2                      |"
   ]
  },
  {
   "cell_type": "markdown",
   "metadata": {},
   "source": [
    "## Arguments"
   ]
  },
  {
   "cell_type": "code",
   "execution_count": 30,
   "metadata": {},
   "outputs": [],
   "source": [
    "mds_filepaths = ['32_wri_numo-main-data_raw-San Francisco-GBFS/data_raw/San Francisco/GBFS/SF MDS/sf_mds1.csv', \\\n",
    "                    '32_wri_numo-main-data_raw-San Francisco-GBFS/data_raw/San Francisco/GBFS/SF MDS/sf_mds2.csv', \\\n",
    "                    '32_wri_numo-main-data_raw-San Francisco-GBFS/data_raw/San Francisco/GBFS/SF MDS/sf_mds3.csv', \\\n",
    "                    '32_wri_numo-main-data_raw-San Francisco-GBFS/data_raw/San Francisco/GBFS/SF MDS/sf_mds4.csv', \\\n",
    "                    ]\n",
    "zones_filepath = '32_wri_numo-main-data_raw-San Francisco-GBFS/zones_w_micromobility_providers.geojson'\n",
    "zone_id_col = 'cell_id'\n",
    "output_file_path = \"./output/SF_MDS_cleaned_hexgrid_scooter_counts.csv\"\n",
    "\n",
    "# mds_filepaths = ['bird_Minneapolis MDS-20220523T190657Z-001/Minneapolis MDS/minneapolis_mds1.csv', \\\n",
    "#                     'bird_Minneapolis MDS-20220523T190657Z-001/Minneapolis MDS/minneapolis_mds2 .csv', \\\n",
    "#                     'bird_Minneapolis MDS-20220523T190657Z-001/Minneapolis MDS/minneapolis_mds3.csv', \\\n",
    "#                     'bird_Minneapolis MDS-20220523T190657Z-001/Minneapolis MDS/minneapolis_mds4.csv', \\\n",
    "#                     ]\n",
    "# zones_filepath = 'bird_Minneapolis MDS-20220523T190657Z-001/zones_w_micromobility_providers.geojson'\n",
    "# zone_id_col = 'cell_id'\n",
    "# output_file_path = \"./output/Minneapolis_MDS_cleaned_hexgrid_scooter_counts.csv\"\n",
    "\n",
    "timeofday_start_24hr = \"07:00\"\n",
    "timeofday_end_24hr = \"09:00\""
   ]
  },
  {
   "cell_type": "markdown",
   "metadata": {},
   "source": [
    "## Cleaning Script"
   ]
  },
  {
   "cell_type": "code",
   "execution_count": 72,
   "metadata": {},
   "outputs": [],
   "source": [
    "mds_df_arr = [pd.read_csv(path) for path in mds_filepaths]\n",
    "mds = pd.concat(mds_df_arr)"
   ]
  },
  {
   "cell_type": "code",
   "execution_count": 73,
   "metadata": {},
   "outputs": [
    {
     "data": {
      "text/plain": [
       "409"
      ]
     },
     "execution_count": 73,
     "metadata": {},
     "output_type": "execute_result"
    }
   ],
   "source": [
    "# Check duplicate rows\n",
    "mds.duplicated().sum()"
   ]
  },
  {
   "cell_type": "code",
   "execution_count": 74,
   "metadata": {},
   "outputs": [],
   "source": [
    "# Drop duplicates\n",
    "mds = mds.drop_duplicates('trip_id')"
   ]
  },
  {
   "cell_type": "code",
   "execution_count": 34,
   "metadata": {},
   "outputs": [],
   "source": [
    "zones = gpd.read_file(zones_filepath)"
   ]
  },
  {
   "cell_type": "code",
   "execution_count": 35,
   "metadata": {},
   "outputs": [],
   "source": [
    "date_start = parser.parse(mds.start_time.min()).date()\n",
    "date_end = parser.parse(mds.end_time.max()).date()\n",
    "\n",
    "# Create empty dataframe\n",
    "zones_ids = zones[zone_id_col].unique()\n",
    "time_start = parser.parse(timeofday_start_24hr).time()\n",
    "time_end = parser.parse(timeofday_end_24hr).time()\n",
    "date_delta = (date_end - date_start).days\n",
    "minute_delta =  int((parser.parse(timeofday_end_24hr) - parser.parse(timeofday_start_24hr)).total_seconds() // 60)\n",
    "\n"
   ]
  },
  {
   "cell_type": "code",
   "execution_count": 36,
   "metadata": {},
   "outputs": [],
   "source": [
    "arr = []\n",
    "for i in range(date_delta):\n",
    "    curr_date = date_start + datetime.timedelta(days=i)\n",
    "    curr_datetime = datetime.datetime(curr_date.year, curr_date.month, curr_date.day, time_start.hour, time_start.minute)\n",
    "    for j in range(minute_delta):\n",
    "        for zone_id in zones_ids:\n",
    "            arr.append([curr_datetime + datetime.timedelta(minutes=j), zone_id])\n",
    "output_df = pd.DataFrame(arr, columns=['minute_local', 'zone_id'])\n"
   ]
  },
  {
   "cell_type": "code",
   "execution_count": 37,
   "metadata": {},
   "outputs": [],
   "source": [
    "vehicle_ids = list(mds['vehicle_id'].unique())"
   ]
  },
  {
   "cell_type": "code",
   "execution_count": 38,
   "metadata": {},
   "outputs": [
    {
     "data": {
      "text/plain": [
       "1092"
      ]
     },
     "execution_count": 38,
     "metadata": {},
     "output_type": "execute_result"
    }
   ],
   "source": [
    "len(vehicle_ids)"
   ]
  },
  {
   "cell_type": "code",
   "execution_count": 39,
   "metadata": {},
   "outputs": [],
   "source": [
    "from multiprocessing import Pool\n",
    "\n",
    "def convert_trip_instance_to_idle_periods(mds_df):\n",
    "    sorted_mds_df = mds_df.sort_values('start_time')\n",
    "    idle_time = []\n",
    "    for i in range(len(sorted_mds_df)-1):\n",
    "        vehicle_id = sorted_mds_df.iloc[i].vehicle_id\n",
    "        start_time = sorted_mds_df.iloc[i].end_time\n",
    "        end_time = sorted_mds_df.iloc[i+1].start_time\n",
    "\n",
    "        # Assign the last point in the route as the idle time location\n",
    "        location_wkt = re.findall(r\"(POINT\\([\\d\\-\\.]* [\\d\\.\\-]*\\))\", sorted_mds_df.iloc[i]['route'])[-1]\n",
    "        # TODO: Consider adding error handling/reporting here\n",
    "        location_point = shapely.wkt.loads(location_wkt)\n",
    "        \n",
    "        idle_time.append([vehicle_id, start_time, end_time, location_point])\n",
    "\n",
    "    return gpd.GeoDataFrame(pd.DataFrame(idle_time, columns=['vehicle_id', 'start_time', 'end_time', 'location']), geometry='location', crs='epsg:4326')\n",
    "\n",
    "\n",
    "\n",
    "def process_idle_instances(idle_instances_df):\n",
    "    arr = []\n",
    "    def process_instance(row):\n",
    "        start_date = parser.parse(row.start_time).date()\n",
    "        end_date = parser.parse(row.end_time).date()\n",
    "        if start_date == end_date:\n",
    "            arr.append(row.tolist())\n",
    "        elif end_date > start_date:\n",
    "            # split the idle time into two instances\n",
    "            # 1: start_time -> start_date@23:59\n",
    "            arr.append([row.vehicle_id, str(row.start_time), str(datetime.datetime.combine(start_date, datetime.time(23,59))), row.location])\n",
    "            # 2: end_date@00:00 -> end_time\n",
    "            arr.append([row.vehicle_id, str(datetime.datetime.combine(end_date, datetime.time(0,0))), str(row.end_time), row.location])\n",
    "        else:\n",
    "            pass\n",
    "\n",
    "    idle_instances_df.apply(process_instance, axis=1)\n",
    "    return gpd.GeoDataFrame(pd.DataFrame(arr, columns=['vehicle_id', 'start_time', 'end_time', 'location']), geometry='location', crs='epsg:4326')\n",
    "\n",
    "\n",
    "\n",
    "def expand_idle_instances_to_row_per_minute(timeofday_start_24hr, timeofday_end_24hr, idle_instances_df):\n",
    "    time_start = parser.parse(timeofday_start_24hr).time()\n",
    "    time_end = parser.parse(timeofday_end_24hr).time()\n",
    "\n",
    "    arr = []\n",
    "    for i, row in idle_instances_df.iterrows():\n",
    "        start_datetime = parser.parse(row.start_time).replace(second=0, microsecond=0, tzinfo=None)\n",
    "        end_datetime = parser.parse(row.end_time).replace(second=0, microsecond=0, tzinfo=None)\n",
    "        time_delta = end_datetime - start_datetime\n",
    "        time_delta_minutes = int(time_delta.total_seconds() // 60)\n",
    "\n",
    "        for i in range(time_delta_minutes):\n",
    "            shifted_datetime = start_datetime + datetime.timedelta(minutes=i)\n",
    "            \n",
    "            if (shifted_datetime.time() > time_start) and (shifted_datetime.time() < time_end):\n",
    "                arr.append([shifted_datetime, row.zone_id, row.location, row.vehicle_id])\n",
    "    \n",
    "    return pd.DataFrame(arr, columns=['minute_local', 'zone_id', 'geometry', 'vehicle_id']) \\\n",
    "                            .drop('geometry', axis=1)\n",
    "\n",
    "\n",
    "def f(single_vehicle_mds_df):\n",
    "    idle_instances_gdf = convert_trip_instance_to_idle_periods(single_vehicle_mds_df)\n",
    "    processed_idle_instances_gdf = process_idle_instances(idle_instances_gdf)\n",
    "    idle_instances_with_zones = processed_idle_instances_gdf.sjoin(zones[['zone_id', 'geometry']])\n",
    "    row_per_idle_minute = expand_idle_instances_to_row_per_minute(timeofday_start_24hr, timeofday_end_24hr, idle_instances_with_zones)\n",
    "    \n",
    "    return {'per_minute': row_per_idle_minute, 'idle_periods': processed_idle_instances_gdf}\n",
    "\n",
    "\n",
    "with Pool(5) as p:\n",
    "    all_vehicles = p.map(f, [mds[mds['vehicle_id']== v_id] for v_id in vehicle_ids])\n"
   ]
  },
  {
   "cell_type": "markdown",
   "metadata": {},
   "source": [
    "## Output Inspection"
   ]
  },
  {
   "cell_type": "code",
   "execution_count": 40,
   "metadata": {},
   "outputs": [
    {
     "data": {
      "text/plain": [
       "0     14109478\n",
       "1       303450\n",
       "2        95319\n",
       "3        39865\n",
       "4        23086\n",
       "5        13685\n",
       "6        10591\n",
       "7         6783\n",
       "9         4046\n",
       "8         4046\n",
       "10        2499\n",
       "12        1785\n",
       "13        1547\n",
       "11        1428\n",
       "16         952\n",
       "14         952\n",
       "15         833\n",
       "19         595\n",
       "21         476\n",
       "18         476\n",
       "22         238\n",
       "26         238\n",
       "20         238\n",
       "24         238\n",
       "27         119\n",
       "28         119\n",
       "23         119\n",
       "17         119\n",
       "Name: rentable_scooter_count, dtype: int64"
      ]
     },
     "execution_count": 40,
     "metadata": {},
     "output_type": "execute_result"
    }
   ],
   "source": [
    "per_minute_df = pd.concat([result['per_minute'] for result in all_vehicles]).groupby(['minute_local', 'zone_id'])   \\\n",
    "                            .count()    \\\n",
    "                            .rename(columns={'vehicle_id':'rentable_scooter_count'})   \n",
    "\n",
    "joined = output_df.merge(per_minute_df, how='left', on=['minute_local', 'zone_id'])\n",
    "joined['rentable_scooter_count'] = joined['rentable_scooter_count'].fillna(0).astype(np.int64)\n",
    "joined.rentable_scooter_count.value_counts()"
   ]
  },
  {
   "cell_type": "code",
   "execution_count": 41,
   "metadata": {},
   "outputs": [
    {
     "data": {
      "text/plain": [
       "<AxesSubplot:>"
      ]
     },
     "execution_count": 41,
     "metadata": {},
     "output_type": "execute_result"
    },
    {
     "data": {
      "image/png": "[encoded data removed]",
      "text/plain": [
       "<Figure size 432x288 with 1 Axes>"
      ]
     },
     "metadata": {
      "needs_background": "light"
     },
     "output_type": "display_data"
    }
   ],
   "source": [
    "## Visualizing distribution of the length of idle periods\n",
    "idle_periods = [result['idle_periods'] for result in all_vehicles]\n",
    "all_idle_times_df = pd.concat(idle_periods)\n",
    "all_idle_times_df['timedelta_minutes'] = all_idle_times_df.apply(lambda row: (parser.parse(row.end_time).replace(second=0, microsecond=0, tzinfo=None) - parser.parse(row.start_time).replace(second=0, microsecond=0, tzinfo=None)).total_seconds() // 60, axis=1)\n",
    "all_idle_times_df.timedelta_minutes.plot.box()"
   ]
  },
  {
   "cell_type": "code",
   "execution_count": 42,
   "metadata": {},
   "outputs": [
    {
     "data": {
      "text/plain": [
       "<AxesSubplot:ylabel='Frequency'>"
      ]
     },
     "execution_count": 42,
     "metadata": {},
     "output_type": "execute_result"
    },
    {
     "data": {
      "image/png": "[encoded data removed]",
      "text/plain": [
       "<Figure size 432x288 with 1 Axes>"
      ]
     },
     "metadata": {
      "needs_background": "light"
     },
     "output_type": "display_data"
    }
   ],
   "source": [
    "all_idle_times_df[all_idle_times_df['timedelta_minutes']>3].timedelta_minutes.plot.hist(bins=100)"
   ]
  },
  {
   "cell_type": "code",
   "execution_count": 65,
   "metadata": {},
   "outputs": [
    {
     "data": {
      "text/plain": [
       "10472"
      ]
     },
     "execution_count": 65,
     "metadata": {},
     "output_type": "execute_result"
    }
   ],
   "source": [
    "(joined.rentable_scooter_count>10).sum()"
   ]
  },
  {
   "cell_type": "code",
   "execution_count": 76,
   "metadata": {},
   "outputs": [
    {
     "data": {
      "text/plain": [
       "'2021-07-31 22:47:40.712000+00:00'"
      ]
     },
     "execution_count": 76,
     "metadata": {},
     "output_type": "execute_result"
    }
   ],
   "source": [
    "mds.start_time.min()"
   ]
  },
  {
   "cell_type": "code",
   "execution_count": 67,
   "metadata": {},
   "outputs": [
    {
     "data": {
      "text/plain": [
       "<AxesSubplot:>"
      ]
     },
     "execution_count": 67,
     "metadata": {},
     "output_type": "execute_result"
    },
    {
     "data": {
      "image/png": "[encoded data removed]",
      "text/plain": [
       "<Figure size 432x288 with 1 Axes>"
      ]
     },
     "metadata": {
      "needs_background": "light"
     },
     "output_type": "display_data"
    }
   ],
   "source": [
    "joined.groupby('minute_local').sum().rentable_scooter_count.plot.box()"
   ]
  },
  {
   "cell_type": "markdown",
   "metadata": {},
   "source": [
    "## Write Output To Disk"
   ]
  },
  {
   "cell_type": "code",
   "execution_count": 43,
   "metadata": {},
   "outputs": [],
   "source": [
    "# Write output dataframe\n",
    "joined.to_csv(output_file_path)"
   ]
  }
 ],
 "metadata": {
  "interpreter": {
   "hash": "10f18ad886f0e84acd63ab33e3b89f667a188066e228513006bfd93b662dabe3"
  },
  "kernelspec": {
   "display_name": "Python 3.9.12 ('base')",
   "language": "python",
   "name": "python3"
  },
  "language_info": {
   "codemirror_mode": {
    "name": "ipython",
    "version": 3
   },
   "file_extension": ".py",
   "mimetype": "text/x-python",
   "name": "python",
   "nbconvert_exporter": "python",
   "pygments_lexer": "ipython3",
   "version": "3.9.12"
  },
  "orig_nbformat": 4
 },
 "nbformat": 4,
 "nbformat_minor": 2
}
