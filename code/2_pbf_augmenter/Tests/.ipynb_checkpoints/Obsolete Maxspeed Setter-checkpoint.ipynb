{
 "cells": [
  {
   "cell_type": "markdown",
   "id": "9e44891c",
   "metadata": {},
   "source": [
    "## Purpose\n",
    "This notebook is for testing the pbf conversion tool to implement different speeds on the OSM ways."
   ]
  },
  {
   "cell_type": "code",
   "execution_count": 1,
   "id": "3f034556",
   "metadata": {},
   "outputs": [],
   "source": [
    "import xml.etree.ElementTree as ET\n",
    "import pandas as pd\n",
    "import gc"
   ]
  },
  {
   "cell_type": "code",
   "execution_count": 2,
   "id": "c73cbc56",
   "metadata": {},
   "outputs": [],
   "source": [
    "road_path = '/Users/askalila/Documents/TfC Offline Work/numo/Network/Clutter/trial_3sf.osm'\n"
   ]
  },
  {
   "cell_type": "code",
   "execution_count": 275,
   "id": "6ef860f5",
   "metadata": {},
   "outputs": [],
   "source": [
    "tree = ET.parse(road_path)"
   ]
  },
  {
   "cell_type": "code",
   "execution_count": 276,
   "id": "6848add7",
   "metadata": {},
   "outputs": [],
   "source": [
    "root = tree.getroot()"
   ]
  },
  {
   "cell_type": "markdown",
   "id": "87c1554e",
   "metadata": {},
   "source": [
    "### Test 1\n",
    "Change maxspeed on all ways in the osm file to 200 mph"
   ]
  },
  {
   "cell_type": "code",
   "execution_count": 11,
   "id": "6ae04d54",
   "metadata": {},
   "outputs": [
    {
     "name": "stdout",
     "output_type": "stream",
     "text": [
      "Total number of ways in the osm: 165984\n"
     ]
    }
   ],
   "source": [
    "number_ofways = len(root.findall('./way'))\n",
    "print('Total number of ways in the osm:', number_ofways)"
   ]
  },
  {
   "cell_type": "markdown",
   "id": "713b67bf",
   "metadata": {},
   "source": [
    "Steps to follow for test 1\n",
    "1. iterate over all ways\n",
    "2. if there is a node named tag with attribute key maxspeed, change its value to 200\n",
    "3. if there is no node tag with attribute maxspeed, create such a tag and assign it the value of 200 mph"
   ]
  },
  {
   "cell_type": "code",
   "execution_count": 111,
   "id": "6713737a",
   "metadata": {},
   "outputs": [],
   "source": [
    "set_static_speed = 200 # in mph\n",
    "speedStr = str(set_static_speed) +' mph'\n",
    "\n",
    "for way in root.findall('way'):\n",
    "    if way.find('tag/[@k=\"maxspeed\"]') is None: # if there is no maxpseed tag\n",
    "        ET.SubElement(way, 'tag')   # adds a tag element under way\n",
    "        way.findall(\".//tag[last()]\")[0].set('k', 'maxspeed') # adds attribute key as 'maxspeed'\n",
    "        way.findall(\".//tag[last()]\")[0].set('v', speedStr) # adds attribute value as static Speed above\n",
    "    else:\n",
    "        way.find('tag/[@k=\"maxspeed\"]').attrib['v'] = speedStr\n",
    "            "
   ]
  },
  {
   "cell_type": "code",
   "execution_count": 115,
   "id": "47ac0970",
   "metadata": {},
   "outputs": [],
   "source": [
    "# output it to .osm file\n",
    "tree.write('200sf3.osm', encoding=\"utf-8\",xml_declaration=True)"
   ]
  },
  {
   "cell_type": "markdown",
   "id": "54ee7de5",
   "metadata": {},
   "source": [
    "### Test 2"
   ]
  },
  {
   "cell_type": "markdown",
   "id": "6dae8d51",
   "metadata": {},
   "source": [
    "Steps to follow for test 2:\n",
    "1. read entire speed csv and drop all rows not 8 am\n",
    "2. iterate through the rows of the speeds df and "
   ]
  },
  {
   "cell_type": "code",
   "execution_count": 5,
   "id": "6d587f8a",
   "metadata": {},
   "outputs": [],
   "source": [
    "filename = '/Users/askalila/Documents/TfC Offline Work/numo/Uber Speed/movement-speeds-quarterly-by-hod-san-francisco-2020-Q1.csv'\n",
    "filename8am = '/Users/askalila/Documents/TfC Offline Work/numo/Uber Speed/movement-speeds-quarterly-by-hod-san-francisco-2020-Q1_8am.csv'\n",
    "# chunksize = 5*10 ** 5\n",
    "# with pd.read_csv(filename, chunksize=chunksize) as reader:\n",
    "#     for chunk in reader:\n",
    "#         speedsDF = chunk\n",
    "#         break"
   ]
  },
  {
   "cell_type": "code",
   "execution_count": 7,
   "id": "091d861f",
   "metadata": {},
   "outputs": [],
   "source": [
    "# speedsAll = pd.read_csv(filename)"
   ]
  },
  {
   "cell_type": "code",
   "execution_count": 10,
   "id": "3a96c222",
   "metadata": {},
   "outputs": [],
   "source": [
    "# speedsDF8am = speedsAll[speedsAll.hour_of_day == 8]\n",
    "speedsDF8am = pd.read_csv(filename8am)\n",
    "speedsDFpeak = speedsDF8am"
   ]
  },
  {
   "cell_type": "code",
   "execution_count": 7,
   "id": "f4c40510",
   "metadata": {},
   "outputs": [],
   "source": []
  },
  {
   "cell_type": "code",
   "execution_count": 12,
   "id": "58bb619b",
   "metadata": {},
   "outputs": [
    {
     "ename": "NameError",
     "evalue": "name 'speedsAll' is not defined",
     "output_type": "error",
     "traceback": [
      "\u001b[0;31m---------------------------------------------------------------------------\u001b[0m",
      "\u001b[0;31mNameError\u001b[0m                                 Traceback (most recent call last)",
      "\u001b[0;32m/var/folders/fn/z4p7hfwn4bl_89wq3xkl03540000gn/T/ipykernel_14860/2027592042.py\u001b[0m in \u001b[0;36m<module>\u001b[0;34m\u001b[0m\n\u001b[0;32m----> 1\u001b[0;31m \u001b[0;32mdel\u001b[0m \u001b[0mspeedsAll\u001b[0m\u001b[0;34m\u001b[0m\u001b[0;34m\u001b[0m\u001b[0m\n\u001b[0m",
      "\u001b[0;31mNameError\u001b[0m: name 'speedsAll' is not defined"
     ]
    }
   ],
   "source": [
    "del speedsAll\n"
   ]
  },
  {
   "cell_type": "code",
   "execution_count": 13,
   "id": "84981dc9",
   "metadata": {},
   "outputs": [
    {
     "data": {
      "text/plain": [
       "17"
      ]
     },
     "execution_count": 13,
     "metadata": {},
     "output_type": "execute_result"
    }
   ],
   "source": [
    "gc.collect()"
   ]
  },
  {
   "cell_type": "code",
   "execution_count": 182,
   "id": "ac23140a",
   "metadata": {},
   "outputs": [],
   "source": [
    "speedsDF8am.to_csv('/Users/askalila/Documents/TfC Offline Work/numo/Uber Speed/movement-speeds-quarterly-by-hod-san-francisco-2020-Q1_8am.csv')\n",
    "\n"
   ]
  },
  {
   "cell_type": "code",
   "execution_count": 175,
   "id": "f5526dd6",
   "metadata": {},
   "outputs": [],
   "source": []
  },
  {
   "cell_type": "code",
   "execution_count": 176,
   "id": "9ab9754a",
   "metadata": {},
   "outputs": [],
   "source": []
  },
  {
   "cell_type": "code",
   "execution_count": 183,
   "id": "ebf8048e",
   "metadata": {},
   "outputs": [
    {
     "name": "stdout",
     "output_type": "stream",
     "text": [
      "No. of unique ways: 82660\n",
      "No. of unique start nodes 153832\n"
     ]
    }
   ],
   "source": [
    "print('No. of unique ways:',len(set(speedsDF8am.osm_way_id)))\n",
    "print('No. of unique start nodes',len(set(speedsDF8am.osm_start_node_id)))"
   ]
  },
  {
   "cell_type": "code",
   "execution_count": 135,
   "id": "10682c9c",
   "metadata": {},
   "outputs": [
    {
     "data": {
      "text/plain": [
       "824582"
      ]
     },
     "execution_count": 135,
     "metadata": {},
     "output_type": "execute_result"
    }
   ],
   "source": [
    "len(root.findall('.//node'))"
   ]
  },
  {
   "cell_type": "code",
   "execution_count": null,
   "id": "8ba7459f",
   "metadata": {},
   "outputs": [],
   "source": []
  },
  {
   "cell_type": "markdown",
   "id": "5c5dc241",
   "metadata": {},
   "source": [
    "## Scratch Pad Below "
   ]
  },
  {
   "cell_type": "code",
   "execution_count": 160,
   "id": "805e7c4e",
   "metadata": {},
   "outputs": [],
   "source": [
    "wayexample = speedsDF8am.iloc[10].osm_way_id\n",
    "startnode = speedsDF8am.iloc[10].osm_start_node_id\n",
    "endnode = speedsDF8am.iloc[10].osm_end_node_id"
   ]
  },
  {
   "cell_type": "code",
   "execution_count": 156,
   "id": "de642841",
   "metadata": {},
   "outputs": [],
   "source": [
    "buildstr = \"./way/[@id =\\\"\" + str(wayexample) + \"\\\"]\"\n",
    "way3 = root.findall(buildstr)\n"
   ]
  },
  {
   "cell_type": "code",
   "execution_count": null,
   "id": "849487a2",
   "metadata": {},
   "outputs": [],
   "source": [
    "buildstr = \"./way/[@id =\\\"\" + str(wayexample) + \"\\\"]\""
   ]
  },
  {
   "cell_type": "code",
   "execution_count": 9,
   "id": "82687c99",
   "metadata": {},
   "outputs": [],
   "source": [
    "ways4 = root.findall('./way/nd/[@ref =\"65365166\"]..')"
   ]
  },
  {
   "cell_type": "code",
   "execution_count": 163,
   "id": "1eb1d8c4",
   "metadata": {},
   "outputs": [],
   "source": [
    "for node in root.findall('./way/nd/..[@ref =\"65365166\"]'):\n",
    "    print(node.attrib)"
   ]
  },
  {
   "cell_type": "code",
   "execution_count": 274,
   "id": "a8fcd582",
   "metadata": {},
   "outputs": [],
   "source": [
    "# test here\n",
    "way1 = root.find('./way/[@id =\"476005551\"]') # does not have maxspeed\n",
    "way2 = root.find('./way/[@id =\"476007033\"]') # has maxspeed attr in tag\n",
    "\n",
    "# Example with several nodes in the nodepair with real speed:\n",
    "wayID = \"27028340\" \n",
    "way5 = root.find(\"./way/[@id = '27028340']\")"
   ]
  },
  {
   "cell_type": "code",
   "execution_count": 33,
   "id": "34626926",
   "metadata": {},
   "outputs": [],
   "source": [
    "for node in way1.iter('tag/[@k=\"highway\"]'):\n",
    "    \n",
    "    print(node)"
   ]
  },
  {
   "cell_type": "code",
   "execution_count": 291,
   "id": "744a28cb",
   "metadata": {},
   "outputs": [
    {
     "name": "stdout",
     "output_type": "stream",
     "text": [
      "<way id=\"11002\" version=\"11\" timestamp=\"2019-03-19T05:40:02Z\" changeset=\"68281580\" uid=\"119881\" user=\"clay_c\" synthetic=\"yes\"><nd ref=\"65296374\" /><nd ref=\"65306688\" /><tag k=\"highway\" v=\"residential\" />\n",
      "\t\t<tag k=\"name\" v=\"29th Street\" />\n",
      "\t\t<tag k=\"tiger:cfcc\" v=\"A41\" />\n",
      "\t\t<tag k=\"tiger:county\" v=\"San Francisco, CA\" />\n",
      "\t\t<tag k=\"tiger:name_base\" v=\"29th\" />\n",
      "\t\t<tag k=\"tiger:name_type\" v=\"St\" />\n",
      "\t\t<tag k=\"tiger:reviewed\" v=\"no\" />\n",
      "\t<tag k=\"maxspeed\" v=\"18.32\" /></way>\n",
      "next\n"
     ]
    }
   ],
   "source": [
    "for node in root.findall(\"./way/[@id = '11002']\"):\n",
    "    ET.dump(node)\n",
    "    print('next')"
   ]
  },
  {
   "cell_type": "code",
   "execution_count": 174,
   "id": "8f4eb416",
   "metadata": {},
   "outputs": [
    {
     "name": "stdout",
     "output_type": "stream",
     "text": [
      "No, it is Not None\n"
     ]
    }
   ],
   "source": [
    "if way1.find('tag/[@k=\"maxspeed\"]') is None:\n",
    "    print(\"It is in fact a None\")\n",
    "else:\n",
    "    print(\"No, it is Not None\")"
   ]
  },
  {
   "cell_type": "code",
   "execution_count": 138,
   "id": "76d8893f",
   "metadata": {},
   "outputs": [
    {
     "data": {
      "text/html": [
       "<div>\n",
       "<style scoped>\n",
       "    .dataframe tbody tr th:only-of-type {\n",
       "        vertical-align: middle;\n",
       "    }\n",
       "\n",
       "    .dataframe tbody tr th {\n",
       "        vertical-align: top;\n",
       "    }\n",
       "\n",
       "    .dataframe thead th {\n",
       "        text-align: right;\n",
       "    }\n",
       "</style>\n",
       "<table border=\"1\" class=\"dataframe\">\n",
       "  <thead>\n",
       "    <tr style=\"text-align: right;\">\n",
       "      <th></th>\n",
       "      <th>year</th>\n",
       "      <th>quarter</th>\n",
       "      <th>hour_of_day</th>\n",
       "      <th>segment_id</th>\n",
       "      <th>start_junction_id</th>\n",
       "      <th>end_junction_id</th>\n",
       "      <th>osm_way_id</th>\n",
       "      <th>osm_start_node_id</th>\n",
       "      <th>osm_end_node_id</th>\n",
       "      <th>speed_mph_mean</th>\n",
       "      <th>speed_mph_stddev</th>\n",
       "      <th>speed_mph_p50</th>\n",
       "      <th>speed_mph_p85</th>\n",
       "    </tr>\n",
       "  </thead>\n",
       "  <tbody>\n",
       "    <tr>\n",
       "      <th>25</th>\n",
       "      <td>2020</td>\n",
       "      <td>1</td>\n",
       "      <td>8</td>\n",
       "      <td>f32dbf217023581f429d56330be2a16410bc2809</td>\n",
       "      <td>8aaf6ad421333ad741cb1d5de1e3fa83e7d0e908</td>\n",
       "      <td>8bbd97259361a23d374e60e6582019550fc58e0f</td>\n",
       "      <td>417094233</td>\n",
       "      <td>4714793573</td>\n",
       "      <td>1014244233</td>\n",
       "      <td>28.066</td>\n",
       "      <td>5.100</td>\n",
       "      <td>29.005</td>\n",
       "      <td>32.166</td>\n",
       "    </tr>\n",
       "    <tr>\n",
       "      <th>55</th>\n",
       "      <td>2020</td>\n",
       "      <td>1</td>\n",
       "      <td>8</td>\n",
       "      <td>aa884b48dd741bb591001ed9d77aaac9f4466048</td>\n",
       "      <td>7fe20e98f1cf38b3825fb4cb5bf10a7088834462</td>\n",
       "      <td>8bbd97259361a23d374e60e6582019550fc58e0f</td>\n",
       "      <td>87223163</td>\n",
       "      <td>1014244242</td>\n",
       "      <td>1014244233</td>\n",
       "      <td>24.026</td>\n",
       "      <td>2.734</td>\n",
       "      <td>24.095</td>\n",
       "      <td>26.280</td>\n",
       "    </tr>\n",
       "    <tr>\n",
       "      <th>70</th>\n",
       "      <td>2020</td>\n",
       "      <td>1</td>\n",
       "      <td>8</td>\n",
       "      <td>b51e0d015f2a7d9a417746aaae39bbdbfd47a6be</td>\n",
       "      <td>7c4361ada161cd0725a010cdbd44d0213a6f9efc</td>\n",
       "      <td>492441475679f95357fbeefc00a9e49c544081c0</td>\n",
       "      <td>416137931</td>\n",
       "      <td>4169719264</td>\n",
       "      <td>4318478540</td>\n",
       "      <td>28.965</td>\n",
       "      <td>8.187</td>\n",
       "      <td>27.997</td>\n",
       "      <td>31.450</td>\n",
       "    </tr>\n",
       "    <tr>\n",
       "      <th>79</th>\n",
       "      <td>2020</td>\n",
       "      <td>1</td>\n",
       "      <td>8</td>\n",
       "      <td>9d2084bc7090e387df9866d22b383f2537c40628</td>\n",
       "      <td>e08d4f15ac0eb1ce777ea2d54efaf6ffa2c3c30e</td>\n",
       "      <td>492441475679f95357fbeefc00a9e49c544081c0</td>\n",
       "      <td>416137931</td>\n",
       "      <td>239464357</td>\n",
       "      <td>4318478540</td>\n",
       "      <td>26.633</td>\n",
       "      <td>4.155</td>\n",
       "      <td>26.655</td>\n",
       "      <td>30.722</td>\n",
       "    </tr>\n",
       "    <tr>\n",
       "      <th>94</th>\n",
       "      <td>2020</td>\n",
       "      <td>1</td>\n",
       "      <td>8</td>\n",
       "      <td>d4271970a0d9f3db34b3f78e4687e7fccc22e164</td>\n",
       "      <td>1cfca404596ca398165e882e27eb1a78e7676a10</td>\n",
       "      <td>6fb71af79d00f26437027d1cc9942e684c60f5e7</td>\n",
       "      <td>8725228</td>\n",
       "      <td>62444228</td>\n",
       "      <td>62478010</td>\n",
       "      <td>30.484</td>\n",
       "      <td>5.780</td>\n",
       "      <td>29.999</td>\n",
       "      <td>34.574</td>\n",
       "    </tr>\n",
       "    <tr>\n",
       "      <th>...</th>\n",
       "      <td>...</td>\n",
       "      <td>...</td>\n",
       "      <td>...</td>\n",
       "      <td>...</td>\n",
       "      <td>...</td>\n",
       "      <td>...</td>\n",
       "      <td>...</td>\n",
       "      <td>...</td>\n",
       "      <td>...</td>\n",
       "      <td>...</td>\n",
       "      <td>...</td>\n",
       "      <td>...</td>\n",
       "      <td>...</td>\n",
       "    </tr>\n",
       "    <tr>\n",
       "      <th>499970</th>\n",
       "      <td>2020</td>\n",
       "      <td>1</td>\n",
       "      <td>8</td>\n",
       "      <td>44831a9500b97f34adcb9886db35dd15493967a2</td>\n",
       "      <td>7b4c260e02642a20536eb7f27bbbf5d5b24c4221</td>\n",
       "      <td>1eeb9662402e24b0518561956d283f0f2991ed1b</td>\n",
       "      <td>8933649</td>\n",
       "      <td>65440060</td>\n",
       "      <td>5437711919</td>\n",
       "      <td>19.475</td>\n",
       "      <td>6.815</td>\n",
       "      <td>19.452</td>\n",
       "      <td>25.191</td>\n",
       "    </tr>\n",
       "    <tr>\n",
       "      <th>499971</th>\n",
       "      <td>2020</td>\n",
       "      <td>1</td>\n",
       "      <td>8</td>\n",
       "      <td>5d4cfde6346f43c15b95eb6ec1c63394063beca9</td>\n",
       "      <td>a77097ab77d9a95f54e24c8c838c89d513c72d0e</td>\n",
       "      <td>b1ef4d473b7bdc6dc48fdb84819eb5a657ef13d5</td>\n",
       "      <td>7702531</td>\n",
       "      <td>55958732</td>\n",
       "      <td>4926336868</td>\n",
       "      <td>21.133</td>\n",
       "      <td>2.786</td>\n",
       "      <td>21.067</td>\n",
       "      <td>23.264</td>\n",
       "    </tr>\n",
       "    <tr>\n",
       "      <th>499972</th>\n",
       "      <td>2020</td>\n",
       "      <td>1</td>\n",
       "      <td>8</td>\n",
       "      <td>42ffdb101280ebd7f643007ad86053b0e7c87f9c</td>\n",
       "      <td>75a3a751901afde7178596c2f33b183d518d84fb</td>\n",
       "      <td>fed0fdba7108a62773efd32da7d7f89bcf4f8e14</td>\n",
       "      <td>7713726</td>\n",
       "      <td>56012896</td>\n",
       "      <td>56093652</td>\n",
       "      <td>35.578</td>\n",
       "      <td>4.569</td>\n",
       "      <td>35.245</td>\n",
       "      <td>38.873</td>\n",
       "    </tr>\n",
       "    <tr>\n",
       "      <th>499987</th>\n",
       "      <td>2020</td>\n",
       "      <td>1</td>\n",
       "      <td>8</td>\n",
       "      <td>2675e49fef53ba6b2601664e4ad38658690bc360</td>\n",
       "      <td>ec5645150a6767900fc26a45cea3aa1c13fa2a08</td>\n",
       "      <td>a4f06693b1460b9eda9f667eca48a1296fff07bb</td>\n",
       "      <td>396980342</td>\n",
       "      <td>65308402</td>\n",
       "      <td>65309302</td>\n",
       "      <td>21.684</td>\n",
       "      <td>4.530</td>\n",
       "      <td>21.893</td>\n",
       "      <td>25.082</td>\n",
       "    </tr>\n",
       "    <tr>\n",
       "      <th>499999</th>\n",
       "      <td>2020</td>\n",
       "      <td>1</td>\n",
       "      <td>8</td>\n",
       "      <td>c8000e933339cac3c4d27fe9907f8b61faecd021</td>\n",
       "      <td>f98a3aeb8f62c32ad909add3e18336586763354a</td>\n",
       "      <td>a4f06693b1460b9eda9f667eca48a1296fff07bb</td>\n",
       "      <td>396980343</td>\n",
       "      <td>4178280997</td>\n",
       "      <td>65309302</td>\n",
       "      <td>20.660</td>\n",
       "      <td>4.204</td>\n",
       "      <td>21.154</td>\n",
       "      <td>24.109</td>\n",
       "    </tr>\n",
       "  </tbody>\n",
       "</table>\n",
       "<p>25122 rows × 13 columns</p>\n",
       "</div>"
      ],
      "text/plain": [
       "        year  quarter  hour_of_day                                segment_id  \\\n",
       "25      2020        1            8  f32dbf217023581f429d56330be2a16410bc2809   \n",
       "55      2020        1            8  aa884b48dd741bb591001ed9d77aaac9f4466048   \n",
       "70      2020        1            8  b51e0d015f2a7d9a417746aaae39bbdbfd47a6be   \n",
       "79      2020        1            8  9d2084bc7090e387df9866d22b383f2537c40628   \n",
       "94      2020        1            8  d4271970a0d9f3db34b3f78e4687e7fccc22e164   \n",
       "...      ...      ...          ...                                       ...   \n",
       "499970  2020        1            8  44831a9500b97f34adcb9886db35dd15493967a2   \n",
       "499971  2020        1            8  5d4cfde6346f43c15b95eb6ec1c63394063beca9   \n",
       "499972  2020        1            8  42ffdb101280ebd7f643007ad86053b0e7c87f9c   \n",
       "499987  2020        1            8  2675e49fef53ba6b2601664e4ad38658690bc360   \n",
       "499999  2020        1            8  c8000e933339cac3c4d27fe9907f8b61faecd021   \n",
       "\n",
       "                               start_junction_id  \\\n",
       "25      8aaf6ad421333ad741cb1d5de1e3fa83e7d0e908   \n",
       "55      7fe20e98f1cf38b3825fb4cb5bf10a7088834462   \n",
       "70      7c4361ada161cd0725a010cdbd44d0213a6f9efc   \n",
       "79      e08d4f15ac0eb1ce777ea2d54efaf6ffa2c3c30e   \n",
       "94      1cfca404596ca398165e882e27eb1a78e7676a10   \n",
       "...                                          ...   \n",
       "499970  7b4c260e02642a20536eb7f27bbbf5d5b24c4221   \n",
       "499971  a77097ab77d9a95f54e24c8c838c89d513c72d0e   \n",
       "499972  75a3a751901afde7178596c2f33b183d518d84fb   \n",
       "499987  ec5645150a6767900fc26a45cea3aa1c13fa2a08   \n",
       "499999  f98a3aeb8f62c32ad909add3e18336586763354a   \n",
       "\n",
       "                                 end_junction_id  osm_way_id  \\\n",
       "25      8bbd97259361a23d374e60e6582019550fc58e0f   417094233   \n",
       "55      8bbd97259361a23d374e60e6582019550fc58e0f    87223163   \n",
       "70      492441475679f95357fbeefc00a9e49c544081c0   416137931   \n",
       "79      492441475679f95357fbeefc00a9e49c544081c0   416137931   \n",
       "94      6fb71af79d00f26437027d1cc9942e684c60f5e7     8725228   \n",
       "...                                          ...         ...   \n",
       "499970  1eeb9662402e24b0518561956d283f0f2991ed1b     8933649   \n",
       "499971  b1ef4d473b7bdc6dc48fdb84819eb5a657ef13d5     7702531   \n",
       "499972  fed0fdba7108a62773efd32da7d7f89bcf4f8e14     7713726   \n",
       "499987  a4f06693b1460b9eda9f667eca48a1296fff07bb   396980342   \n",
       "499999  a4f06693b1460b9eda9f667eca48a1296fff07bb   396980343   \n",
       "\n",
       "        osm_start_node_id  osm_end_node_id  speed_mph_mean  speed_mph_stddev  \\\n",
       "25             4714793573       1014244233          28.066             5.100   \n",
       "55             1014244242       1014244233          24.026             2.734   \n",
       "70             4169719264       4318478540          28.965             8.187   \n",
       "79              239464357       4318478540          26.633             4.155   \n",
       "94               62444228         62478010          30.484             5.780   \n",
       "...                   ...              ...             ...               ...   \n",
       "499970           65440060       5437711919          19.475             6.815   \n",
       "499971           55958732       4926336868          21.133             2.786   \n",
       "499972           56012896         56093652          35.578             4.569   \n",
       "499987           65308402         65309302          21.684             4.530   \n",
       "499999         4178280997         65309302          20.660             4.204   \n",
       "\n",
       "        speed_mph_p50  speed_mph_p85  \n",
       "25             29.005         32.166  \n",
       "55             24.095         26.280  \n",
       "70             27.997         31.450  \n",
       "79             26.655         30.722  \n",
       "94             29.999         34.574  \n",
       "...               ...            ...  \n",
       "499970         19.452         25.191  \n",
       "499971         21.067         23.264  \n",
       "499972         35.245         38.873  \n",
       "499987         21.893         25.082  \n",
       "499999         21.154         24.109  \n",
       "\n",
       "[25122 rows x 13 columns]"
      ]
     },
     "execution_count": 138,
     "metadata": {},
     "output_type": "execute_result"
    }
   ],
   "source": [
    "speedsDF[speedsDF.hour_of_day == 8]"
   ]
  },
  {
   "cell_type": "markdown",
   "id": "a0938683",
   "metadata": {},
   "source": [
    "- iterate through all ways (try first with just one)\n",
    "- create a list of the nodes within using findall \n",
    "- pass to function to do: in speedsDF,  query for nodelist in start node and end node. returns rows with relevant speeds in either direction\n",
    "    - if list > 0, take the resulting node paris of each row and create ways with the pairs (loop)\n",
    "            then take all of the nd's from i to the to_node's position in the way\n",
    "        create a new way in the tree and append those nodes, copy over all tags and add a maxpeed tag\n",
    "        remove the nd's from the original way\n",
    "    - if list is empty, move to next way\n",
    "\n",
    "- repeat the above until either (only one nd in the way) or (nd's do not return a speed in df)\n",
    "- add an attribute to the way to indicate that it has been checked for speed\n",
    "- in tree, remove ways with only nd's\n",
    "    \n"
   ]
  },
  {
   "cell_type": "code",
   "execution_count": 271,
   "id": "02bec3ef",
   "metadata": {},
   "outputs": [
    {
     "name": "stdout",
     "output_type": "stream",
     "text": [
      "theres a speed\n"
     ]
    }
   ],
   "source": [
    "vari = '200'\n",
    "if vari != 'no': print('theres a speed')"
   ]
  },
  {
   "cell_type": "code",
   "execution_count": 273,
   "id": "3de62ed9",
   "metadata": {},
   "outputs": [],
   "source": [
    "def CopyNodes (originalway, nodesequence, realspeed, units, newwayID):\n",
    "    \"\"\"\n",
    "    Purpose: this function creates a new way with the nodes that have speed and adds attribute to the old and new ways to mark them as synthetic\n",
    "    \n",
    "    input:\n",
    "        originalway: original way element object\n",
    "        nodesequence: list of node IDs to be copied as strings in list, in the correct direction\n",
    "        realspeed: mean speed as string or 'no' to skip changing maxspeed tag\n",
    "        units: string of 'mph' or'kph'\n",
    "        newwayID: string with a new way ID number\n",
    "        \n",
    "    no outputs\n",
    "    \"\"\"\n",
    "\n",
    "    newway = ET.Element('way', attrib = dict(originalway.items())) #creates new way with same attributes\n",
    "\n",
    "    # add nodes as nd children\n",
    "    \n",
    "    for i,anode in enumerate(nodesequence):    \n",
    "        NodeRef = ET.Element('nd', attrib = {'ref':anode})\n",
    "        newway.append(NodeRef)\n",
    "        \n",
    "\n",
    "    # adds attributes and tags to new way\n",
    "    newway.set('id', newwayID) #replace orig way id with new id\n",
    "    newway.set('synthetic','yes')\n",
    "    newway.extend(originalway.findall(\"./tag\")) #copies over all the exisitng tags\n",
    "\n",
    "    if realspeed != 'no': \n",
    "    \n",
    "        # add the maxspeed tag from real speed or replace current maxspeed with real speed\n",
    "        if newway.find('tag/[@k=\"maxspeed\"]') is None:\n",
    "            speedtag = ET.Element('tag', attrib = {'k':'maxspeed','v':realspeed})\n",
    "            newway.append(speedtag)   # adds a tag element under way\n",
    "        else:\n",
    "            newway.find('tag/[@k=\"maxspeed\"]').attrib['v'] = realspeed\n",
    "\n",
    "    \n",
    "    \n",
    "    root.append(newway) # adds new way to the xml\n",
    "    \n",
    "    global newwayID_float\n",
    "    newwayID_float += 1\n",
    "    \n",
    "    "
   ]
  },
  {
   "cell_type": "code",
   "execution_count": null,
   "id": "bbe3ef63",
   "metadata": {},
   "outputs": [],
   "source": [
    "\n",
    "    # Examples of different ways\n",
    "# wayID = \"400104475\"  #example with all nodes have 6 different real speed segments\n",
    "# wayID = \"404848898\"\n",
    "wayID = \"1030325062\" \n",
    "\n",
    "originalway = root.find(\".way/[@id = '\" +wayID+ \"']\")"
   ]
  },
  {
   "cell_type": "code",
   "execution_count": 8,
   "id": "26b5534b",
   "metadata": {},
   "outputs": [
    {
     "data": {
      "text/plain": [
       "['65294368',\n",
       " '1972382984',\n",
       " '6346560004',\n",
       " '4490922398',\n",
       " '65306680',\n",
       " '4490922399',\n",
       " '6346560005',\n",
       " '1972383012',\n",
       " '2614974236',\n",
       " '65306682',\n",
       " '2614974244',\n",
       " '65306684',\n",
       " '65296374',\n",
       " '65306688',\n",
       " '65304103']"
      ]
     },
     "execution_count": 8,
     "metadata": {},
     "output_type": "execute_result"
    }
   ],
   "source": [
    "nodelist = []\n",
    "nodelistfloat = []\n",
    "for node in root.find(\"./way/[@id = '27028340']\").iter('nd'):\n",
    "    ref = node.attrib['ref']\n",
    "    nodelist.append(ref)\n",
    "    nodelistfloat.append(int(ref))\n",
    "nodelist"
   ]
  },
  {
   "cell_type": "code",
   "execution_count": 321,
   "id": "bc8edd89",
   "metadata": {},
   "outputs": [],
   "source": [
    "def CheckNodesForSpeeds (wayID, originalway nodelist, units, newwayID_seed):\n",
    "    \"\"\"\n",
    "    This function will check the Speeds Dataframe (global variable) for speeds between node pairs in the way.\n",
    "    \n",
    "    Global variables that need to be present:\n",
    "        root\n",
    "        speedsDFpeak\n",
    "    inputs: \n",
    "        wayID: original way element's ID as string\n",
    "        nodelist: the way's list of node reference ids as strings\n",
    "        units: 'mph' or 'kph' string\n",
    "        newwayID_seed: starting number for new way's to iterate over by 1\n",
    "    \n",
    "    function Calls another function to do:\n",
    "        - creates new way with nodes and speed and copies all metadata and non-speed tags\n",
    "        - removes the copied nodes from the original way\n",
    "        - adds attribute to newway \"synthetic = yes\"\n",
    "        \n",
    "        - adds attribute to origin way \"Checked_for_speed = yes\"\n",
    "        \n",
    "    no outputs\n",
    "    \"\"\"\n",
    "\n",
    "    newwayID = str(newwayID_seed)\n",
    "\n",
    "    #create nodelist of node id strings and similar list of floats\n",
    "    nodelist = []\n",
    "    nodelistfloat = []\n",
    "    for node in originalway.iter('nd'):\n",
    "        ref = node.attrib['ref']\n",
    "        nodelist.append(ref)\n",
    "        nodelistfloat.append(int(ref))\n",
    "\n",
    "    # get reverse of nodelist\n",
    "    reverseNodelistfloat = list(reversed(nodelistfloat))\n",
    "    reverseNodelist = list(reversed(nodelist))\n",
    "\n",
    "    # get only speeds with origin AND Destination nodes in the original way\n",
    "    relevantSpeeds = speedsDFpeak.loc[(speedsDFpeak.osm_start_node_id.isin(nodelistfloat)) & (speedsDFpeak.osm_end_node_id.isin(nodelistfloat))]\n",
    "\n",
    "    # nodepairtuples = []\n",
    "    nodepairdict = dict()\n",
    "    # create new ways from the relevant speeds\n",
    "    for nodes in relevantSpeeds[['osm_start_node_id','osm_end_node_id','speed_mph_mean']].iterrows():\n",
    "        pair = list(nodes[1])\n",
    "        startnode, endnode, realspeed_float = pair[0],pair[1], pair[2]\n",
    "        realspeed = str(realspeed_float)\n",
    "        newwayID = str(newwayID_float)\n",
    "\n",
    "        # check if its the direction of node sequence or reverse\n",
    "        if nodelistfloat.index(endnode) > nodelistfloat.index(startnode): #correct sequence     \n",
    "            startIndex, endIndex = nodelistfloat.index(startnode), nodelistfloat.index(endnode)\n",
    "            CopyNodes(originalway, nodelist[startIndex:endIndex+1],realspeed,'mph',newwayID)\n",
    "    #         nodepairtuples.append((startIndex, endIndex))  # no longer needed\n",
    "            nodepairdict[startIndex] = endIndex\n",
    "\n",
    "        elif nodelistfloat.index(endnode) < nodelistfloat.index(startnode): # reverse\n",
    "            # check if the reverse nodepair belongs to another way (from DF in Uber, from xml tree in mapbox), \n",
    "            # if yes then skip this block\n",
    "            try: # check if the speed DF has a different way ID for the reverse node direction (n/a to mapbox speed)\n",
    "                samewayID = wayID == str(list(speedsDFpeak.loc[(speedsDFpeak.osm_start_node_id == startnode) & (speedsDFpeak.osm_end_node_id == endnode)]['osm_way_id'])[0])\n",
    "            except: # for mapbox, check the root for the node pair's ways [incomplete!!]\n",
    "                samewayID = True\n",
    "                pass\n",
    "            \n",
    "            if samewayID:\n",
    "                startIndex, endIndex = nodelistfloat.index(startnode), nodelistfloat.index(endnode)\n",
    "                revstartIndex, revendIndex = reverseNodelistfloat.index(startnode), reverseNodelistfloat.index(endnode)\n",
    "                CopyNodes(originalway, reverseNodelist[revstartIndex:revendIndex+1],realspeed,'mph',newwayID)\n",
    "        #         nodepairtuples.append((startIndex, endIndex))  # no longer needed\n",
    "\n",
    "        else: raise Exception('start node or end node not in way nodelist')\n",
    "\n",
    "\n",
    "    ## remove nodes from original way\n",
    "\n",
    "    startPos = 0\n",
    "    endPos = len(nodelist)-1\n",
    "\n",
    "    data_items = nodepairdict.items()\n",
    "    data_list = list(data_items)\n",
    "    nodepairdf = pd.DataFrame(data_list,columns=['start','end'])\n",
    "\n",
    "    # first, delete nodes from segemnts at the start of the way\n",
    "\n",
    "    while len(nodepairdf[nodepairdf.start == startPos]) > 0: #loop over this until it all start segments are removed from original way\n",
    "\n",
    "        start = startPos\n",
    "        end = nodepairdf[nodepairdf.start == startPos].values[0][1]\n",
    "\n",
    "        for i in range(start, end): # delete nodes in orig way from startPos to end-1\n",
    "            nodeID = nodelist[i]\n",
    "            try: originalway.remove(originalway.find(\"./nd/[@ref='\"+nodeID+\"']\"))\n",
    "            except: pass\n",
    "    #         print('removed node index',i)\n",
    "\n",
    "        nodepairdf = nodepairdf.drop(nodepairdf[nodepairdf.start == startPos].index[0])  # delete this row from the df\n",
    "        startPos = end\n",
    "\n",
    "\n",
    "    # second, delete nodes from segements at the end of the way\n",
    "    while len(nodepairdf[nodepairdf.end == endPos]) > 0:  \n",
    "        end = endPos\n",
    "        start = nodepairdf[nodepairdf.end == endPos].values[0][0]\n",
    "\n",
    "        for i in range(start+1, end+1): # delete nodes in orig way from startPos +1 to endPos\n",
    "            nodeID = nodelist[i]\n",
    "            try: originalway.remove(originalway.find(\"./nd/[@ref='\"+nodeID+\"']\"))\n",
    "            except: pass\n",
    "    #         print('removed node index',i)\n",
    "\n",
    "        nodepairdf = nodepairdf.drop(nodepairdf[nodepairdf.end == endPos].index[0]) # delete this row from the df\n",
    "        endPos = start\n",
    "\n",
    "\n",
    "\n",
    "    copypairs =[]\n",
    "    sortedNodepairdf = nodepairdf.sort_values(by=['start']).values\n",
    "\n",
    "    for i, pair in enumerate(sortedNodepairdf): # the remaining rows should only be nodes of middle segments\n",
    "\n",
    "        if pair[1] < pair[0]: continue # ignore reverse pairs\n",
    "        if len(copypairs) == 0: \n",
    "            copypairs.append((startPos,pair[0]))\n",
    "            lastEnd = pair[1]\n",
    "        if i == len(sortedNodepairdf)-1: copypairs.append((pair[1],endPos))\n",
    "        if pair[0] > lastEnd: copypairs.append((lastEnd,pair[0]))\n",
    "        if i == len(remaining)-1 and pair[1] < endPos: copypairs.append((pair[1],endPos))\n",
    "\n",
    "        for i in range(pair[0]+1, pair[1]): # delete nodes in orig way from startPos +1 to endPos\n",
    "            nodeID = nodelist[i]\n",
    "            try: originalway.remove(originalway.find(\"./nd/[@ref='\"+nodeID+\"']\"))\n",
    "            except: pass\n",
    "    #         print('removed node index',i)\n",
    "\n",
    "        lastEnd = pair[1]\n",
    "    del lastEnd\n",
    "\n",
    "\n",
    "    # create copynodes with no realspeed for all pairs in copypairs \n",
    "    for pair in copypairs:\n",
    "        nodesequence = []\n",
    "        for i in range(pair[0],pair[1]+1): nodesequence.append(nodelist[i])\n",
    "        CopyNodes(originalway, nodesequence, realspeed='no', units='mph', newwayID)\n"
   ]
  },
  {
   "cell_type": "code",
   "execution_count": 319,
   "id": "1869054e",
   "metadata": {},
   "outputs": [
    {
     "name": "stdout",
     "output_type": "stream",
     "text": [
      "   start  end\n",
      "1      1    2\n",
      "0      2    3\n",
      "2      3    2\n"
     ]
    }
   ],
   "source": [
    "\n",
    "data_items = nodepairdict.items()\n",
    "data_list = list(data_items)\n",
    "nodepairdf = pd.DataFrame(data_list,columns=['start','end'])\n",
    "print(nodepairdf.sort_values(by=['start']))"
   ]
  },
  {
   "cell_type": "code",
   "execution_count": 323,
   "id": "f1506434",
   "metadata": {},
   "outputs": [
    {
     "data": {
      "text/plain": [
       "['9497668621', '4174213866', '4174213828', '53041273']"
      ]
     },
     "execution_count": 323,
     "metadata": {},
     "output_type": "execute_result"
    }
   ],
   "source": [
    "nodelist"
   ]
  },
  {
   "cell_type": "code",
   "execution_count": 322,
   "id": "04afdaa0",
   "metadata": {},
   "outputs": [
    {
     "data": {
      "text/plain": [
       "[(2, 1), (2, 3), (1, 2), (3, 2)]"
      ]
     },
     "execution_count": 322,
     "metadata": {},
     "output_type": "execute_result"
    }
   ],
   "source": [
    "nodepairtuples"
   ]
  },
  {
   "cell_type": "code",
   "execution_count": 257,
   "id": "e3a35ff6",
   "metadata": {},
   "outputs": [],
   "source": [
    "nodepairdict[0] = 1\n",
    "nodepairdict[1]= 3\n",
    "nodepairdict[4] = 7\n",
    "nodepairdict[8] = 9"
   ]
  },
  {
   "cell_type": "code",
   "execution_count": 258,
   "id": "2bde1802",
   "metadata": {},
   "outputs": [
    {
     "data": {
      "text/html": [
       "<div>\n",
       "<style scoped>\n",
       "    .dataframe tbody tr th:only-of-type {\n",
       "        vertical-align: middle;\n",
       "    }\n",
       "\n",
       "    .dataframe tbody tr th {\n",
       "        vertical-align: top;\n",
       "    }\n",
       "\n",
       "    .dataframe thead th {\n",
       "        text-align: right;\n",
       "    }\n",
       "</style>\n",
       "<table border=\"1\" class=\"dataframe\">\n",
       "  <thead>\n",
       "    <tr style=\"text-align: right;\">\n",
       "      <th></th>\n",
       "      <th>start</th>\n",
       "      <th>end</th>\n",
       "    </tr>\n",
       "  </thead>\n",
       "  <tbody>\n",
       "    <tr>\n",
       "      <th>2</th>\n",
       "      <td>4</td>\n",
       "      <td>7</td>\n",
       "    </tr>\n",
       "  </tbody>\n",
       "</table>\n",
       "</div>"
      ],
      "text/plain": [
       "   start  end\n",
       "2      4    7"
      ]
     },
     "execution_count": 258,
     "metadata": {},
     "output_type": "execute_result"
    }
   ],
   "source": [
    "nodepairdf"
   ]
  },
  {
   "cell_type": "code",
   "execution_count": 263,
   "id": "d3275843",
   "metadata": {},
   "outputs": [
    {
     "name": "stdout",
     "output_type": "stream",
     "text": [
      "removed node index 0\n",
      "removed node index 1\n",
      "removed node index 2\n",
      "removed node index 9\n",
      "removed node index 5\n",
      "removed node index 6\n",
      "[(3, 4), (7, 8)]\n"
     ]
    }
   ],
   "source": [
    "## idea 3 for removing nodes\n",
    "\n"
   ]
  },
  {
   "cell_type": "code",
   "execution_count": 274,
   "id": "cd72e5f9",
   "metadata": {},
   "outputs": [
    {
     "data": {
      "text/plain": [
       "['4622849714', '4069966904']"
      ]
     },
     "execution_count": 274,
     "metadata": {},
     "output_type": "execute_result"
    }
   ],
   "source": [
    "nodesequence = []\n",
    "for pair in [(3,4)]:\n",
    "    for i in range(pair[0],pair[1]+1): nodesequence.append(nodelist[i])\n",
    "nodesequence"
   ]
  },
  {
   "cell_type": "code",
   "execution_count": 185,
   "id": "adc7276b",
   "metadata": {},
   "outputs": [
    {
     "data": {
      "text/plain": [
       "array([], shape=(0, 2), dtype=int64)"
      ]
     },
     "execution_count": 185,
     "metadata": {},
     "output_type": "execute_result"
    }
   ],
   "source": [
    "nodepairdf.sort_values(by=['start']).values"
   ]
  },
  {
   "cell_type": "code",
   "execution_count": 324,
   "id": "1e7d920b",
   "metadata": {},
   "outputs": [
    {
     "name": "stdout",
     "output_type": "stream",
     "text": [
      "<way id=\"1030325062\" version=\"1\" timestamp=\"2022-02-11T09:54:07Z\" changeset=\"117280248\" uid=\"11089099\" user=\"YuliyaShustava_lyft\">\n",
      "\t\t<nd ref=\"9497668621\" />\n",
      "\t\t<nd ref=\"4174213866\" />\n",
      "\t\t<nd ref=\"4174213828\" />\n",
      "\t\t<nd ref=\"53041273\" />\n",
      "\t\t<tag k=\"bicycle\" v=\"yes\" />\n",
      "\t\t<tag k=\"foot\" v=\"yes\" />\n",
      "\t\t<tag k=\"highway\" v=\"primary\" />\n",
      "\t\t<tag k=\"lanes\" v=\"2\" />\n",
      "\t\t<tag k=\"name\" v=\"International Boulevard\" />\n",
      "\t\t<tag k=\"old_name\" v=\"E 14th St\" />\n",
      "\t\t<tag k=\"oneway\" v=\"yes\" />\n",
      "\t\t<tag k=\"sidewalk\" v=\"right\" />\n",
      "\t\t<tag k=\"surface\" v=\"paved\" />\n",
      "\t\t<tag k=\"tiger:cfcc\" v=\"A31\" />\n",
      "\t\t<tag k=\"tiger:county\" v=\"Alameda, CA\" />\n",
      "\t\t<tag k=\"tiger:name_base\" v=\"14th\" />\n",
      "\t\t<tag k=\"tiger:name_base_1\" v=\"State Highway 185\" />\n",
      "\t\t<tag k=\"tiger:name_direction_prefix\" v=\"E\" />\n",
      "\t\t<tag k=\"tiger:name_type\" v=\"St\" />\n",
      "\t\t<tag k=\"tiger:reviewed\" v=\"no\" />\n",
      "\t\t<tag k=\"turn:lanes\" v=\"left|\" />\n",
      "\t</way>\n",
      "\t\n"
     ]
    }
   ],
   "source": [
    "wayeg = root.find(\".way/[@id = '\" + wayID+ \"']\")\n",
    "ET.dump(wayeg)"
   ]
  },
  {
   "cell_type": "code",
   "execution_count": 231,
   "id": "6f1aa90d",
   "metadata": {},
   "outputs": [
    {
     "name": "stdout",
     "output_type": "stream",
     "text": [
      "<way id=\"404588382\" version=\"2\" timestamp=\"2016-03-20T02:58:13Z\" changeset=\"37949082\" uid=\"933797\" user=\"oba510\">\n",
      "\t\t<nd ref=\"4068621437\" />\n",
      "\t\t<nd ref=\"4068621431\" />\n",
      "\t\t<nd ref=\"4068621451\" />\n",
      "\t\t<nd ref=\"4068621423\" />\n",
      "\t\t<nd ref=\"4068621430\" />\n",
      "\t\t<nd ref=\"4068621455\" />\n",
      "\t\t<nd ref=\"4068621460\" />\n",
      "\t\t<nd ref=\"4068621472\" />\n",
      "\t\t<nd ref=\"4068621426\" />\n",
      "\t\t<tag k=\"highway\" v=\"service\" />\n",
      "\t\t<tag k=\"service\" v=\"parking_aisle\" />\n",
      "\t</way>\n",
      "\t\n"
     ]
    }
   ],
   "source": [
    "ET.dump(wayeg)"
   ]
  },
  {
   "cell_type": "code",
   "execution_count": 209,
   "id": "2c038ea6",
   "metadata": {},
   "outputs": [
    {
     "data": {
      "text/plain": [
       "[<Element 'way' at 0x7fb6e478e130>]"
      ]
     },
     "execution_count": 209,
     "metadata": {},
     "output_type": "execute_result"
    }
   ],
   "source": [
    "root.findall('./way/[@id=\"29480947\"]')\n",
    "# root.findway('./way/[@id =\"476005551\"]')"
   ]
  },
  {
   "cell_type": "code",
   "execution_count": 147,
   "id": "e91002bd",
   "metadata": {},
   "outputs": [],
   "source": [
    "\n"
   ]
  },
  {
   "cell_type": "code",
   "execution_count": 165,
   "id": "d9925082",
   "metadata": {},
   "outputs": [
    {
     "name": "stdout",
     "output_type": "stream",
     "text": [
      "0\n",
      "1\n",
      "2\n",
      "3\n",
      "4\n"
     ]
    }
   ],
   "source": [
    "newway = ET.Element('way')\n",
    "for i,anode in enumerate(nodepair):    \n",
    "    NodeRef = ET.Element('nd', attrib = {'ref':anode})\n",
    "    newway.append(NodeRef)\n",
    "    print(i)\n",
    "    if i == len(nodepair)-1: continue\n",
    "    try:\n",
    "        originalway.remove(originalway.find(\"./nd/[@ref='\"+anode+\"']\"))\n",
    "    except: continue"
   ]
  },
  {
   "cell_type": "code",
   "execution_count": 325,
   "id": "c52e7f48",
   "metadata": {},
   "outputs": [
    {
     "data": {
      "text/plain": [
       "[<Element 'way' at 0x7fc71ca31f40>]"
      ]
     },
     "execution_count": 325,
     "metadata": {},
     "output_type": "execute_result"
    }
   ],
   "source": [
    "sameway\n",
    "# wayID, list(speedsDFpeak.loc[(speedsDFpeak.osm_start_node_id == startnode) & (speedsDFpeak.osm_end_node_id == endnode)]['osm_way_id'])[0]\n",
    "root.findall(\"./way/[@id='\" + wayID + \"']\")"
   ]
  },
  {
   "cell_type": "code",
   "execution_count": 326,
   "id": "513fc453",
   "metadata": {},
   "outputs": [
    {
     "data": {
      "text/plain": [
       "'1030325062'"
      ]
     },
     "execution_count": 326,
     "metadata": {},
     "output_type": "execute_result"
    }
   ],
   "source": [
    "wayID"
   ]
  },
  {
   "cell_type": "code",
   "execution_count": 276,
   "id": "7fd6c9af",
   "metadata": {
    "scrolled": true
   },
   "outputs": [
    {
     "name": "stdout",
     "output_type": "stream",
     "text": [
      "<nd ref=\"65304103\" />\n",
      "<nd ref=\"65306688\" />\n",
      "<tag k=\"highway\" v=\"residential\" />\n",
      "\t\t\n",
      "<tag k=\"name\" v=\"29th Street\" />\n",
      "\t\t\n",
      "<tag k=\"tiger:cfcc\" v=\"A41\" />\n",
      "\t\t\n",
      "<tag k=\"tiger:county\" v=\"San Francisco, CA\" />\n",
      "\t\t\n",
      "<tag k=\"tiger:name_base\" v=\"29th\" />\n",
      "\t\t\n",
      "<tag k=\"tiger:name_type\" v=\"St\" />\n",
      "\t\t\n",
      "<tag k=\"tiger:reviewed\" v=\"no\" />\n",
      "\t\n",
      "<tag k=\"maxspeed\" v=\"17.294\" />\n"
     ]
    }
   ],
   "source": [
    "for way in root.find(\"./way/[@id ='11001']\"):\n",
    "    ET.dump(way)"
   ]
  },
  {
   "cell_type": "code",
   "execution_count": 49,
   "id": "953ff4ab",
   "metadata": {},
   "outputs": [
    {
     "data": {
      "text/html": [
       "<div>\n",
       "<style scoped>\n",
       "    .dataframe tbody tr th:only-of-type {\n",
       "        vertical-align: middle;\n",
       "    }\n",
       "\n",
       "    .dataframe tbody tr th {\n",
       "        vertical-align: top;\n",
       "    }\n",
       "\n",
       "    .dataframe thead th {\n",
       "        text-align: right;\n",
       "    }\n",
       "</style>\n",
       "<table border=\"1\" class=\"dataframe\">\n",
       "  <thead>\n",
       "    <tr style=\"text-align: right;\">\n",
       "      <th></th>\n",
       "      <th>Unnamed: 0</th>\n",
       "      <th>year</th>\n",
       "      <th>quarter</th>\n",
       "      <th>hour_of_day</th>\n",
       "      <th>segment_id</th>\n",
       "      <th>start_junction_id</th>\n",
       "      <th>end_junction_id</th>\n",
       "      <th>osm_way_id</th>\n",
       "      <th>osm_start_node_id</th>\n",
       "      <th>osm_end_node_id</th>\n",
       "      <th>speed_mph_mean</th>\n",
       "      <th>speed_mph_stddev</th>\n",
       "      <th>speed_mph_p50</th>\n",
       "      <th>speed_mph_p85</th>\n",
       "    </tr>\n",
       "  </thead>\n",
       "  <tbody>\n",
       "    <tr>\n",
       "      <th>43666</th>\n",
       "      <td>867601</td>\n",
       "      <td>2020</td>\n",
       "      <td>1</td>\n",
       "      <td>8</td>\n",
       "      <td>c8b1bb5ab138296327e398f80cb1a5b1c7db1e0a</td>\n",
       "      <td>d2f4724929b90e5db871c75cab165930f99112a1</td>\n",
       "      <td>2d76f2ba50a0245fb10c4d2582e6dcd1bcff221f</td>\n",
       "      <td>26965920</td>\n",
       "      <td>65328428</td>\n",
       "      <td>4023031571</td>\n",
       "      <td>19.202</td>\n",
       "      <td>4.105</td>\n",
       "      <td>19.432</td>\n",
       "      <td>22.278</td>\n",
       "    </tr>\n",
       "    <tr>\n",
       "      <th>143253</th>\n",
       "      <td>2847866</td>\n",
       "      <td>2020</td>\n",
       "      <td>1</td>\n",
       "      <td>8</td>\n",
       "      <td>940ee79671cb92e930027ccf3413d9220cbff440</td>\n",
       "      <td>2d76f2ba50a0245fb10c4d2582e6dcd1bcff221f</td>\n",
       "      <td>a46733aa745de8ce11630b6fa51b09e28f76c3d9</td>\n",
       "      <td>26965920</td>\n",
       "      <td>4023031571</td>\n",
       "      <td>65354844</td>\n",
       "      <td>18.346</td>\n",
       "      <td>2.977</td>\n",
       "      <td>18.373</td>\n",
       "      <td>21.046</td>\n",
       "    </tr>\n",
       "    <tr>\n",
       "      <th>169732</th>\n",
       "      <td>3374599</td>\n",
       "      <td>2020</td>\n",
       "      <td>1</td>\n",
       "      <td>8</td>\n",
       "      <td>a576339a2119f0c0b835318aba8047b9cde2d88f</td>\n",
       "      <td>a46733aa745de8ce11630b6fa51b09e28f76c3d9</td>\n",
       "      <td>d2f4724929b90e5db871c75cab165930f99112a1</td>\n",
       "      <td>399575097</td>\n",
       "      <td>65354844</td>\n",
       "      <td>65328428</td>\n",
       "      <td>15.911</td>\n",
       "      <td>3.511</td>\n",
       "      <td>16.414</td>\n",
       "      <td>18.465</td>\n",
       "    </tr>\n",
       "  </tbody>\n",
       "</table>\n",
       "</div>"
      ],
      "text/plain": [
       "        Unnamed: 0  year  quarter  hour_of_day  \\\n",
       "43666       867601  2020        1            8   \n",
       "143253     2847866  2020        1            8   \n",
       "169732     3374599  2020        1            8   \n",
       "\n",
       "                                      segment_id  \\\n",
       "43666   c8b1bb5ab138296327e398f80cb1a5b1c7db1e0a   \n",
       "143253  940ee79671cb92e930027ccf3413d9220cbff440   \n",
       "169732  a576339a2119f0c0b835318aba8047b9cde2d88f   \n",
       "\n",
       "                               start_junction_id  \\\n",
       "43666   d2f4724929b90e5db871c75cab165930f99112a1   \n",
       "143253  2d76f2ba50a0245fb10c4d2582e6dcd1bcff221f   \n",
       "169732  a46733aa745de8ce11630b6fa51b09e28f76c3d9   \n",
       "\n",
       "                                 end_junction_id  osm_way_id  \\\n",
       "43666   2d76f2ba50a0245fb10c4d2582e6dcd1bcff221f    26965920   \n",
       "143253  a46733aa745de8ce11630b6fa51b09e28f76c3d9    26965920   \n",
       "169732  d2f4724929b90e5db871c75cab165930f99112a1   399575097   \n",
       "\n",
       "        osm_start_node_id  osm_end_node_id  speed_mph_mean  speed_mph_stddev  \\\n",
       "43666            65328428       4023031571          19.202             4.105   \n",
       "143253         4023031571         65354844          18.346             2.977   \n",
       "169732           65354844         65328428          15.911             3.511   \n",
       "\n",
       "        speed_mph_p50  speed_mph_p85  \n",
       "43666          19.432         22.278  \n",
       "143253         18.373         21.046  \n",
       "169732         16.414         18.465  "
      ]
     },
     "execution_count": 49,
     "metadata": {},
     "output_type": "execute_result"
    }
   ],
   "source": [
    "nodelist = []\n",
    "nodelistfloat = []\n",
    "for node in root.find(\"./way/[@id = '26965920']\").iter('nd'):\n",
    "    ref = node.attrib['ref']\n",
    "    nodelist.append(ref)\n",
    "    nodelistfloat.append(int(ref))\n",
    "\n",
    "speedsDFpeak.loc[(speedsDFpeak.osm_start_node_id.isin(nodelistfloat)) & (speedsDFpeak.osm_end_node_id.isin(nodelistfloat))]\n",
    "# nodelistfloat = []\n",
    "# for node in nodelist:\n",
    "#     nodelistfloat.append(int(node))\n",
    "# nodelistfloat\n"
   ]
  },
  {
   "cell_type": "code",
   "execution_count": 327,
   "id": "b0f3f9d4",
   "metadata": {},
   "outputs": [
    {
     "data": {
      "text/html": [
       "<div>\n",
       "<style scoped>\n",
       "    .dataframe tbody tr th:only-of-type {\n",
       "        vertical-align: middle;\n",
       "    }\n",
       "\n",
       "    .dataframe tbody tr th {\n",
       "        vertical-align: top;\n",
       "    }\n",
       "\n",
       "    .dataframe thead th {\n",
       "        text-align: right;\n",
       "    }\n",
       "</style>\n",
       "<table border=\"1\" class=\"dataframe\">\n",
       "  <thead>\n",
       "    <tr style=\"text-align: right;\">\n",
       "      <th></th>\n",
       "      <th>Unnamed: 0</th>\n",
       "      <th>year</th>\n",
       "      <th>quarter</th>\n",
       "      <th>hour_of_day</th>\n",
       "      <th>segment_id</th>\n",
       "      <th>start_junction_id</th>\n",
       "      <th>end_junction_id</th>\n",
       "      <th>osm_way_id</th>\n",
       "      <th>osm_start_node_id</th>\n",
       "      <th>osm_end_node_id</th>\n",
       "      <th>speed_mph_mean</th>\n",
       "      <th>speed_mph_stddev</th>\n",
       "      <th>speed_mph_p50</th>\n",
       "      <th>speed_mph_p85</th>\n",
       "    </tr>\n",
       "  </thead>\n",
       "  <tbody>\n",
       "    <tr>\n",
       "      <th>31889</th>\n",
       "      <td>633690</td>\n",
       "      <td>2020</td>\n",
       "      <td>1</td>\n",
       "      <td>8</td>\n",
       "      <td>d1814dbd3591ec714a8d3e89b155f3e31197bd0a</td>\n",
       "      <td>53342024cf2ac7020c0af07f3940160a0b096a1e</td>\n",
       "      <td>cab2f5801a962745908f9f76df435cf1eba0a4b2</td>\n",
       "      <td>416147493</td>\n",
       "      <td>4174213828</td>\n",
       "      <td>4174213866</td>\n",
       "      <td>21.868</td>\n",
       "      <td>4.964</td>\n",
       "      <td>22.050</td>\n",
       "      <td>26.811</td>\n",
       "    </tr>\n",
       "    <tr>\n",
       "      <th>180374</th>\n",
       "      <td>3586278</td>\n",
       "      <td>2020</td>\n",
       "      <td>1</td>\n",
       "      <td>8</td>\n",
       "      <td>9704242fd731a2cb6588d071f5aaee0f7e6655ef</td>\n",
       "      <td>53342024cf2ac7020c0af07f3940160a0b096a1e</td>\n",
       "      <td>052ff188e278708a3562ebd1567f52183b1d84b0</td>\n",
       "      <td>416147493</td>\n",
       "      <td>4174213828</td>\n",
       "      <td>53041273</td>\n",
       "      <td>11.897</td>\n",
       "      <td>8.585</td>\n",
       "      <td>13.035</td>\n",
       "      <td>20.650</td>\n",
       "    </tr>\n",
       "    <tr>\n",
       "      <th>201004</th>\n",
       "      <td>3996256</td>\n",
       "      <td>2020</td>\n",
       "      <td>1</td>\n",
       "      <td>8</td>\n",
       "      <td>d1814dbd3591ec714a8d3e89b155f3e31197bd0a</td>\n",
       "      <td>cab2f5801a962745908f9f76df435cf1eba0a4b2</td>\n",
       "      <td>53342024cf2ac7020c0af07f3940160a0b096a1e</td>\n",
       "      <td>416147493</td>\n",
       "      <td>4174213866</td>\n",
       "      <td>4174213828</td>\n",
       "      <td>10.871</td>\n",
       "      <td>9.037</td>\n",
       "      <td>9.160</td>\n",
       "      <td>21.151</td>\n",
       "    </tr>\n",
       "    <tr>\n",
       "      <th>201005</th>\n",
       "      <td>3996272</td>\n",
       "      <td>2020</td>\n",
       "      <td>1</td>\n",
       "      <td>8</td>\n",
       "      <td>9704242fd731a2cb6588d071f5aaee0f7e6655ef</td>\n",
       "      <td>052ff188e278708a3562ebd1567f52183b1d84b0</td>\n",
       "      <td>53342024cf2ac7020c0af07f3940160a0b096a1e</td>\n",
       "      <td>416147493</td>\n",
       "      <td>53041273</td>\n",
       "      <td>4174213828</td>\n",
       "      <td>19.559</td>\n",
       "      <td>5.299</td>\n",
       "      <td>19.428</td>\n",
       "      <td>24.575</td>\n",
       "    </tr>\n",
       "  </tbody>\n",
       "</table>\n",
       "</div>"
      ],
      "text/plain": [
       "        Unnamed: 0  year  quarter  hour_of_day  \\\n",
       "31889       633690  2020        1            8   \n",
       "180374     3586278  2020        1            8   \n",
       "201004     3996256  2020        1            8   \n",
       "201005     3996272  2020        1            8   \n",
       "\n",
       "                                      segment_id  \\\n",
       "31889   d1814dbd3591ec714a8d3e89b155f3e31197bd0a   \n",
       "180374  9704242fd731a2cb6588d071f5aaee0f7e6655ef   \n",
       "201004  d1814dbd3591ec714a8d3e89b155f3e31197bd0a   \n",
       "201005  9704242fd731a2cb6588d071f5aaee0f7e6655ef   \n",
       "\n",
       "                               start_junction_id  \\\n",
       "31889   53342024cf2ac7020c0af07f3940160a0b096a1e   \n",
       "180374  53342024cf2ac7020c0af07f3940160a0b096a1e   \n",
       "201004  cab2f5801a962745908f9f76df435cf1eba0a4b2   \n",
       "201005  052ff188e278708a3562ebd1567f52183b1d84b0   \n",
       "\n",
       "                                 end_junction_id  osm_way_id  \\\n",
       "31889   cab2f5801a962745908f9f76df435cf1eba0a4b2   416147493   \n",
       "180374  052ff188e278708a3562ebd1567f52183b1d84b0   416147493   \n",
       "201004  53342024cf2ac7020c0af07f3940160a0b096a1e   416147493   \n",
       "201005  53342024cf2ac7020c0af07f3940160a0b096a1e   416147493   \n",
       "\n",
       "        osm_start_node_id  osm_end_node_id  speed_mph_mean  speed_mph_stddev  \\\n",
       "31889          4174213828       4174213866          21.868             4.964   \n",
       "180374         4174213828         53041273          11.897             8.585   \n",
       "201004         4174213866       4174213828          10.871             9.037   \n",
       "201005           53041273       4174213828          19.559             5.299   \n",
       "\n",
       "        speed_mph_p50  speed_mph_p85  \n",
       "31889          22.050         26.811  \n",
       "180374         13.035         20.650  \n",
       "201004          9.160         21.151  \n",
       "201005         19.428         24.575  "
      ]
     },
     "execution_count": 327,
     "metadata": {},
     "output_type": "execute_result"
    }
   ],
   "source": [
    "relevantSpeeds"
   ]
  },
  {
   "cell_type": "code",
   "execution_count": 304,
   "id": "d8d2b640",
   "metadata": {},
   "outputs": [
    {
     "data": {
      "text/plain": [
       "'404848898'"
      ]
     },
     "execution_count": 304,
     "metadata": {},
     "output_type": "execute_result"
    }
   ],
   "source": [
    "9497668621\" />\n",
    "\t\t<nd ref=\"4174213866\" />\n",
    "\t\t<nd ref=\"4174213828\" />\n",
    "\t\t<nd ref=\"53041273\""
   ]
  },
  {
   "cell_type": "code",
   "execution_count": null,
   "id": "92017440",
   "metadata": {},
   "outputs": [],
   "source": [
    "## Idea 1 for removing nodes\n",
    "\n",
    "sorted(nodepairtuples)\n",
    "startPos = 0\n",
    "endPos = len(nodelist)-1\n",
    "\n",
    "for pair in sorted(nodepairtuples):\n",
    "    if  pair[0] == startPos and pair[1] == endPos:\n",
    "        # check if reverse exists, if yes delete all nodes, \n",
    "        # delete all nodes\n",
    "        break\n",
    "    elif pair[0] == startPos: # case where nodepair starts at beginning but not end\n",
    "        if pair[1]>pair[0] and (pair[1],pair[0]) in nodepairtuples: # case where nodepair is in orig direction\n",
    "        # delete nodes from startPos to pair[1]-1\n",
    "       \n",
    "        startPos = pair[1]\n",
    "        \n",
    "    elif pair[1]== endPos:\n",
    "        # delete nodes from startPos +1 to endPos\n",
    "        endPos = pair[0]\n",
    "#     else: # case where pair is in the middle of nodelist\n",
    "        #delete any nodes between startPos and endPos. from and including startPos+1 to endPos-1\n",
    "        # create split with  new ways no speed [startPos:pair[0]] and  [pair[1]:endPos]\n",
    "        \n",
    "# copyNodes (without speed) if there are jumps in the indexes. E.g. [0,1,2,3,5,6,7] -> [0,1,2,3] and [5,6,7] as separate ways\n",
    "# e.g [0,1,2,4,5,7,8] -> [0,1,2], \n"
   ]
  },
  {
   "cell_type": "code",
   "execution_count": null,
   "id": "d7fbf4fd",
   "metadata": {},
   "outputs": [],
   "source": [
    "## Idea 2 for removing nodes\n",
    "\n",
    "sorted(nodepairtuples)\n",
    "startPos = 0\n",
    "endPos = len(nodelist)-1\n",
    "nodepairtuplescopy = nodepairtuples.copy()\n",
    "\n",
    "\n",
    "\n",
    "for pair in nodepairtuples:\n",
    "    if pair[0] == startPos:\n",
    "        # delete nodes in orig way from startPos to pair[1]-1\n",
    "        startPos = pair[1]\n",
    "        del nodepairtuplescopy[nodepairtuplescopy.index(pair)]\n",
    "    elif pair[1] == endPos:\n",
    "        # delete nodes in orig way from startPos +1 to endPos\n",
    "        endPos = pair[0]\n",
    "        del nodepairtuplescopy[nodepairtuplescopy.index(pair)]\n",
    "    else: "
   ]
  },
  {
   "cell_type": "markdown",
   "id": "5016160a",
   "metadata": {},
   "source": [
    "Questions to be checked:\n",
    "- are there real speeds for nodes that are not right ater one another? can there be a list of nodes > 2 with real speed available for the whol elist (displayed as node1 - lastnode?\n",
    "    yes. there are, take the entire nodelist\n",
    "- deal with an empty nodelist\n",
    "- deal with not being able to overwrite an existing way with ID, instead it adds more of the same wayID elements\n",
    "- deal with the remove not working\n",
    "    done\n",
    "- is it an issue if the nd ref eelents are at the end?\n",
    "    appending them to the beginnging now so no needs to test this\n",
    "- how to create a new way ID counter system in the global var (not hard)\n",
    "- deal with mapbox which doesnt have wayID\n",
    "    switched to searching with nodes\n",
    "- add column to speedDF and indicate speed was used\n",
    "    no need since node search switch\n",
    "- check if pandas can find nodelist as both start node and end node\n",
    "    yes, done\n",
    "- add optional parameter to add one way tag\n",
    "     - removed one way tag from function\n",
    "- add check if osm way ID is the same for the reverse speed pair\n",
    "    - added for uber only ot for mapbox. ran into issue where the osm wayID might not match uber speed way ID for same way (uber outdated)\n",
    "- consider not adding reverse pairs to the dict for removing nodes\n",
    "    - yes, no longer adding reverse pairs for the removal. also not adding one way tags. some service roads not tagged one way are highway exits which are de facto one way in a routing engine if highway is one way\n",
    "    \n",
    "Issue with removing nodes from the original way\n",
    "\n",
    "- first choice is that removal will be based only on the correct direction, not the reverse\n",
    "    i am trying to incoroprate direction in the new ways and deleting function\n",
    "    - possible solution: no adding one way tags to new ways. if way has oneway tag, it will be copied over, if it does not, we do not add one even if we create a new way and its reverse, we let the node sequnce determine routing direction. \n",
    "    \n",
    "- possible issue: if the set of nodes belongs to more than one way: like 2 one way ways in opposite directions.\n",
    "right now, code does not query the osm network to see where the nodes belong\n",
    "    - added a check if the osm way ID is different in the uber speed df, then it does not take the speed for the reverse nodes and differnet way. if it is indeed a diff way, then it will get its turn over when interating over all ways in the osm\n",
    "\n"
   ]
  }
 ],
 "metadata": {
  "kernelspec": {
   "display_name": "Python 3 (ipykernel)",
   "language": "python",
   "name": "python3"
  },
  "language_info": {
   "codemirror_mode": {
    "name": "ipython",
    "version": 3
   },
   "file_extension": ".py",
   "mimetype": "text/x-python",
   "name": "python",
   "nbconvert_exporter": "python",
   "pygments_lexer": "ipython3",
   "version": "3.9.7"
  }
 },
 "nbformat": 4,
 "nbformat_minor": 5
}
