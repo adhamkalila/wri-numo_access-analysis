{
 "cells": [
  {
   "cell_type": "markdown",
   "id": "9e44891c",
   "metadata": {},
   "source": [
    "## Purpose\n",
    "This notebook is for testing the pbf conversion tool to implement different speeds on the OSM ways."
   ]
  },
  {
   "cell_type": "code",
   "execution_count": 11,
   "id": "19fe3d19",
   "metadata": {},
   "outputs": [],
   "source": [
    "## Test 4\n",
    "\n",
    "Idea: The memory of the machine is used up as we iterate over the ways because new ways are \n",
    "added to the root, thus increasing the length of the loop.\n",
    "I will test out adding new ways to a separate oot (called newroot) and removing from only\n",
    "the newroot. Thereby keeping the original root the same size and adding only to the new root. \n",
    "Then the output will be the newroot. This way I can also see the difference in size of the root (originally, and the old root)\n",
    "Basically all changes will ocur to newroot.\n",
    "    \n",
    "Result: Test showed much slower performcane than the current Maxspeed Setter. I suspect it is due to two changes: \n",
    "        1. searching the new root for the way with the same waID being interated over\n",
    "        2. "
   ]
  },
  {
   "cell_type": "code",
   "execution_count": 8,
   "id": "3f034556",
   "metadata": {},
   "outputs": [],
   "source": [
    "import xml.etree.ElementTree as ET\n",
    "import pandas as pd\n",
    "import gc\n",
    "from timeit import default_timer as timer\n",
    "import numpy as np\n",
    "import copy"
   ]
  },
  {
   "cell_type": "code",
   "execution_count": 15,
   "id": "c73cbc56",
   "metadata": {},
   "outputs": [],
   "source": [
    "######## INPUTS\n",
    "\n",
    "road_path = '/Users/askalila/Documents/TfC Offline Work/numo/otp/Clutter/Final networks/original/extended_sf.osm'\n",
    "\n",
    "output_file_name = 'extended_sf_test4.osm'\n",
    "\n",
    "newwayID_seed = 1000  # This is a potential bug if wayID exists in the osm we are routing over.\n"
   ]
  },
  {
   "cell_type": "code",
   "execution_count": null,
   "id": "1c794867",
   "metadata": {},
   "outputs": [],
   "source": [
    "####### Extra INPUTS\n"
   ]
  },
  {
   "cell_type": "code",
   "execution_count": 3,
   "id": "d14123d9",
   "metadata": {},
   "outputs": [],
   "source": [
    "######### input paths to average speed csv here\n",
    "###### Mexico:\n",
    "# avgspeed = '/Users/askalila/Documents/GitHub/32_wri_numo/4_Tool_Development/2_transform/avg_speeds/mexico_output.csv'\n",
    "# cityunits = 'kph' # string 'mph' or 'kph'\n",
    "\n",
    "# ###### Cairo:\n",
    "# ## check points to copy in line 13 of next block [1660,16600,83000,182000, 270000, 360000]\n",
    "# avgspeed = '/Users/askalila/Documents/GitHub/32_wri_numo/4_Tool_Development/2_transform/avg_speeds/cairo_output.csv'\n",
    "# cityunits = 'kph' # string 'mph' or 'kph'\n",
    "\n",
    "\n",
    "###### San Francisco\n",
    "avgspeed = '/Users/askalila/Documents/GitHub/32_wri_numo/4_Tool_Development/2_transform/avg_speeds/sf_output.csv'\n",
    "cityunits = 'mph' # string 'mph' or 'kph'\n",
    "\n",
    "\n",
    "### for mapbox\n",
    "# colnames=['osm_start_node_id','osm_end_node_id', 'speed_kph_mean'] \n",
    "# speedsDFpeak = pd.read_csv(avgspeed, names=colnames, header=0)\n",
    "\n",
    "## for uber\n",
    "speedsDFpeak = pd.read_csv(avgspeed)\n"
   ]
  },
  {
   "cell_type": "code",
   "execution_count": 44,
   "id": "6ef860f5",
   "metadata": {},
   "outputs": [],
   "source": [
    "# Setting up Element Tree to read in the osm file\n",
    "tree = ET.parse(road_path)\n",
    "root = tree.getroot()"
   ]
  },
  {
   "cell_type": "code",
   "execution_count": 45,
   "id": "0dc1c402",
   "metadata": {},
   "outputs": [],
   "source": [
    "newroot = copy.deepcopy(root)"
   ]
  },
  {
   "cell_type": "code",
   "execution_count": 18,
   "id": "6848add7",
   "metadata": {},
   "outputs": [],
   "source": [
    "def CopyNodes (originalway, nodesequence, realspeed, units, newwayID, verbose = 'no'):\n",
    "    \"\"\"\n",
    "    Purpose: this function creates a new way with the nodes that have speed and adds attribute to the old and new ways to mark them as synthetic\n",
    "    \n",
    "    input:\n",
    "        originalway: original way element object\n",
    "        nodesequence: list of node IDs to be copied as strings in list, in the correct direction\n",
    "        realspeed: mean speed as string or 'no' to skip changing maxspeed tag\n",
    "        units: string of 'mph' or'kph'\n",
    "        newwayID: string with a new way ID number\n",
    "        \n",
    "    no outputs\n",
    "    \"\"\"\n",
    "\n",
    "    newway = ET.Element('way', attrib = dict(originalway.items())) #creates new way with same attributes\n",
    "\n",
    "    # add nodes as nd children\n",
    "    \n",
    "    for i,anode in enumerate(nodesequence):    \n",
    "        NodeRef = ET.Element('nd', attrib = {'ref':anode})\n",
    "        newway.append(NodeRef)\n",
    "        \n",
    "\n",
    "    # adds attributes and tags to new way\n",
    "    newway.set('id', newwayID) #replace orig way id with new id\n",
    "    newway.set('synthetic','yes')\n",
    "    newway.extend(originalway.findall(\"./tag\")) #copies over all the exisitng tags\n",
    "\n",
    "    if realspeed != 'no': \n",
    "    \n",
    "        # add the maxspeed tag from real speed or replace current maxspeed with real speed\n",
    "        if newway.find('tag/[@k=\"maxspeed\"]') is None:\n",
    "            speedtag = ET.Element('tag', attrib = {'k':'maxspeed','v':realspeed})\n",
    "            newway.append(speedtag)   # adds a tag element under way\n",
    "        else:\n",
    "            newway.find('tag/[@k=\"maxspeed\"]').attrib['v'] = realspeed\n",
    "\n",
    "    \n",
    "    global newroot\n",
    "    newroot.append(newway) # adds new way to the newroot's xml\n",
    "    if verbose == 'yes': print('adding new way with ID',newwayID)\n",
    "    \n",
    "    \n",
    "    "
   ]
  },
  {
   "cell_type": "code",
   "execution_count": 19,
   "id": "0f8a6870",
   "metadata": {},
   "outputs": [],
   "source": [
    "def CheckNodesForSpeeds (wayID, originalway, units, verbose = 'no'):\n",
    "    \"\"\"\n",
    "    This function will check the Speeds Dataframe (global variable) for speeds between node pairs in the way.\n",
    "    \n",
    "    Global variables that need to be present:\n",
    "        root\n",
    "        speedsDFpeak\n",
    "    inputs: \n",
    "        wayID: original way element's ID as string\n",
    "        nodelist: the way's list of node reference ids as strings\n",
    "        units: 'mph' or 'kph' string\n",
    "        newwayID_seed: starting number for new way's to iterate over by 1\n",
    "    \n",
    "    function Calls another function to do:\n",
    "        - creates new way with nodes and speed and copies all metadata and non-speed tags\n",
    "        - removes the copied nodes from the original way\n",
    "        - adds attribute to newway \"synthetic = yes\"\n",
    "        \n",
    "        - adds attribute to origin way \"Checked_for_speed = yes\"\n",
    "        \n",
    "    no outputs\n",
    "    \"\"\"\n",
    "    global newwayID_seed\n",
    "\n",
    "    #create nodelist of node id strings and similar list of floats\n",
    "    nodelist = []\n",
    "    nodelistfloat = []\n",
    "    for node in originalway.iter('nd'):\n",
    "        \n",
    "        ref = node.attrib['ref']\n",
    "        nodelist.append(ref)\n",
    "        nodelistfloat.append(int(ref))\n",
    "\n",
    "    # get reverse of nodelist\n",
    "    reverseNodelistfloat = list(reversed(nodelistfloat))\n",
    "    reverseNodelist = list(reversed(nodelist))\n",
    "\n",
    "    # get only speeds with origin AND Destination nodes in the original way\n",
    "    relevantSpeeds = speedsDFpeak.loc[(speedsDFpeak.osm_start_node_id.isin(nodelistfloat)) & (speedsDFpeak.osm_end_node_id.isin(nodelistfloat))]\n",
    "    try: \n",
    "        relevantSpeedsShort = relevantSpeeds[['osm_start_node_id','osm_end_node_id','speed_mph_mean']]\n",
    "    except:\n",
    "        relevantSpeedsShort = relevantSpeeds[['osm_start_node_id','osm_end_node_id','speed_kph_mean']]\n",
    "\n",
    "        \n",
    "    nodepairdict = dict()\n",
    "    \n",
    "    \n",
    "\n",
    "    # create new ways from the relevant speeds\n",
    "    \n",
    "    for nodes in relevantSpeedsShort.iterrows():\n",
    "        pair = list(nodes[1])\n",
    "        startnode, endnode, realspeed_float = pair[0],pair[1], pair[2]\n",
    "        realspeed = str(realspeed_float)\n",
    "\n",
    "        # check if its the direction of node sequence or reverse\n",
    "        if nodelistfloat.index(endnode) > nodelistfloat.index(startnode): #correct sequence     \n",
    "            startIndex, endIndex = nodelistfloat.index(startnode), nodelistfloat.index(endnode)\n",
    "            CopyNodes(originalway, nodelist[startIndex:endIndex+1],realspeed,units,str(newwayID_seed))\n",
    "            newwayID_seed += 1\n",
    "            nodepairdict[startIndex] = endIndex\n",
    "\n",
    "        elif nodelistfloat.index(endnode) < nodelistfloat.index(startnode): # reverse\n",
    "            # check if the reverse nodepair belongs to another way (from DF in Uber, from xml tree in mapbox), \n",
    "            # if yes then skip this block\n",
    "            try: # check if the speed DF has a different way ID for the reverse node direction (n/a to mapbox speed)\n",
    "                samewayID = wayID == str(list(speedsDFpeak.loc[(speedsDFpeak.osm_start_node_id == startnode) & (speedsDFpeak.osm_end_node_id == endnode)]['osm_way_id'])[0])\n",
    "            except: # for mapbox, check if the root has only way with the start and end node pair\n",
    "                \n",
    "#                 This did not work becuase it is very slow. Skipping it will not have adverse effects on the result\n",
    "#                 samewayID = len(root.findall(\"./way/nd/[@ref ='\"+ str(round(startnode)) +\"']..\" and \"./way/nd/[@ref ='\"+ str(round(endnode)) +\"']..\")) == 1\n",
    "                samewayID = True\n",
    "              \n",
    "#             samewayID = True\n",
    "            if samewayID:\n",
    "                startIndex, endIndex = nodelistfloat.index(startnode), nodelistfloat.index(endnode)\n",
    "                revstartIndex, revendIndex = reverseNodelistfloat.index(startnode), reverseNodelistfloat.index(endnode)\n",
    "                CopyNodes(originalway, reverseNodelist[revstartIndex:revendIndex+1],realspeed,units,str(newwayID_seed))\n",
    "                newwayID_seed += 1\n",
    "\n",
    "        else: raise Exception('start node or end node not in way nodelist')\n",
    "\n",
    "\n",
    "    ## remove nodes from original way\n",
    "\n",
    "    startPos = 0\n",
    "    endPos = len(nodelist)-1\n",
    "\n",
    "    data_items = nodepairdict.items()\n",
    "    data_list = list(data_items)\n",
    "    nodepairdf = pd.DataFrame(data_list,columns=['start','end'])\n",
    "\n",
    "    # first, delete nodes from segments at the start of the way\n",
    "\n",
    "    while len(nodepairdf[nodepairdf.start == startPos]) > 0: #loop over this until it all start segments are removed from original way\n",
    "\n",
    "        start = startPos\n",
    "        end = nodepairdf[nodepairdf.start == startPos].values[0][1]\n",
    "\n",
    "        for i in range(start, end): # delete nodes in orig way from startPos to end-1\n",
    "            nodeID = nodelist[i]\n",
    "            try: originalway.remove(originalway.find(\"./nd/[@ref='\"+nodeID+\"']\"))\n",
    "            except: pass\n",
    "            if verbose == 'yes': print('removed node index',i)\n",
    "\n",
    "        nodepairdf = nodepairdf.drop(nodepairdf[nodepairdf.start == startPos].index[0])  # delete this row from the df\n",
    "        startPos = end\n",
    "\n",
    "\n",
    "    # second, delete nodes from segments at the end of the way\n",
    "    while len(nodepairdf[nodepairdf.end == endPos]) > 0:  \n",
    "        end = endPos\n",
    "        start = nodepairdf[nodepairdf.end == endPos].values[0][0]\n",
    "\n",
    "        for i in range(start+1, end+1): # delete nodes in orig way from startPos +1 to endPos\n",
    "            nodeID = nodelist[i]\n",
    "            try: originalway.remove(originalway.find(\"./nd/[@ref='\"+nodeID+\"']\"))\n",
    "            except: pass\n",
    "            if verbose == 'yes': print('removed node index',i)\n",
    "\n",
    "        nodepairdf = nodepairdf.drop(nodepairdf[nodepairdf.end == endPos].index[0]) # delete this row from the df\n",
    "        endPos = start\n",
    "\n",
    "\n",
    "\n",
    "    copypairs =[]\n",
    "    sortedNodepairdf = nodepairdf.sort_values(by=['start']).values\n",
    "    \n",
    "    # third, the remaining rows should only be nodes of middle segments. delete the middle nodes\n",
    "\n",
    "    for i, pair in enumerate(sortedNodepairdf): \n",
    "\n",
    "        if pair[1] < pair[0]: continue # ignore reverse pairs\n",
    "        if len(copypairs) == 0: \n",
    "            copypairs.append((startPos,pair[0]))\n",
    "            lastEnd = pair[1]\n",
    "        if i == len(sortedNodepairdf)-1: copypairs.append((pair[1],endPos))\n",
    "        if pair[0] > lastEnd: copypairs.append((lastEnd,pair[0]))\n",
    "        if i == len(sortedNodepairdf)-1 and pair[1] < endPos: copypairs.append((pair[1],endPos))\n",
    "\n",
    "        for i in range(pair[0]+1, pair[1]): # delete nodes in orig way from startPos +1 to endPos -1\n",
    "            nodeID = nodelist[i]\n",
    "            try: originalway.remove(originalway.find(\"./nd/[@ref='\"+nodeID+\"']\"))\n",
    "            except: pass\n",
    "            if verbose == 'yes': print('removed node index',i)\n",
    "\n",
    "        lastEnd = pair[1]\n",
    "\n",
    "    if verbose == 'yes': print('copy pairs:',copypairs)\n",
    "    # create copynodes with no realspeed for all pairs in copypairs \n",
    "    for pair in copypairs:\n",
    "        nodesequence = []\n",
    "        for i in range(pair[0],pair[1]+1): nodesequence.append(nodelist[i])\n",
    "        CopyNodes(originalway, nodesequence,'no',units, str(newwayID_seed))\n",
    "        newwayID_seed += 1\n"
   ]
  },
  {
   "cell_type": "code",
   "execution_count": 20,
   "id": "6ae04d54",
   "metadata": {},
   "outputs": [
    {
     "name": "stdout",
     "output_type": "stream",
     "text": [
      "Total number of ways in the original osm: 394579\n",
      "Total number of ways in the copy osm: 394579\n"
     ]
    }
   ],
   "source": [
    "number_ofways = len(root.findall('./way'))\n",
    "number_ofways_newroot = len(newroot.findall('./way'))\n",
    "\n",
    "print('Total number of ways in the original osm:', number_ofways)\n",
    "print('Total number of ways in the copy osm:', number_ofways_newroot)\n",
    "\n",
    "checkpoints = []\n",
    "for j in [0.01,0.05, 0.1, 0.5, 0.75, 0.9, 0.99]:\n",
    "    checkpoints.append(round(number_ofways*j))"
   ]
  },
  {
   "cell_type": "markdown",
   "id": "6dae8d51",
   "metadata": {},
   "source": [
    "Steps to follow:\n",
    "- iterate through all ways\n",
    "- pass to function to do: \n",
    "    - in speeds dataframe, query for nodes in the way as start nodes and end nodes. returns rows with relevant speeds in either direction\n",
    "    - for each row in the speeds dataframe, copy the start node, end node and all nodes in between in the correct order to a new way. copy over all the attributes and tags of the way to the 'synthetic' ways. add an attribute that is is synthetic\n",
    "    - if speeds returned is for nodes in oppostie direction, only copy the nodes to a new way if the way ID is the same, otherwise skip this node pair. Assuming the other way that this nodepari belongs to will be iterated over, they will be incorprated then.\n",
    "    - remove the nodes that were copied to new ways from the original way. This preserves the nodes needed in the original way if only a subset of its nodes were cut out with real speeds. new ways with real speed in the opposite direction are not considered for the removal of nodes from the original way\n",
    "\n",
    "- in osm, remove ways with one or fewer nd's"
   ]
  },
  {
   "cell_type": "code",
   "execution_count": 46,
   "id": "f4c40510",
   "metadata": {},
   "outputs": [
    {
     "name": "stdout",
     "output_type": "stream",
     "text": [
      "starting speed augmentation...\n",
      "1% completed in 7.0 minutes...\n",
      "5% completed in 38.0 minutes...\n"
     ]
    },
    {
     "ename": "KeyboardInterrupt",
     "evalue": "",
     "output_type": "error",
     "traceback": [
      "\u001b[0;31m---------------------------------------------------------------------------\u001b[0m",
      "\u001b[0;31mKeyboardInterrupt\u001b[0m                         Traceback (most recent call last)",
      "\u001b[0;32m/var/folders/fn/z4p7hfwn4bl_89wq3xkl03540000gn/T/ipykernel_39051/3675154475.py\u001b[0m in \u001b[0;36m<module>\u001b[0;34m\u001b[0m\n\u001b[1;32m      6\u001b[0m \u001b[0;32mfor\u001b[0m \u001b[0mi\u001b[0m\u001b[0;34m,\u001b[0m\u001b[0moriginalway\u001b[0m \u001b[0;32min\u001b[0m \u001b[0menumerate\u001b[0m\u001b[0;34m(\u001b[0m\u001b[0mroot\u001b[0m\u001b[0;34m.\u001b[0m\u001b[0mfindall\u001b[0m\u001b[0;34m(\u001b[0m\u001b[0;34m\"./way\"\u001b[0m\u001b[0;34m)\u001b[0m\u001b[0;34m)\u001b[0m\u001b[0;34m:\u001b[0m\u001b[0;34m\u001b[0m\u001b[0;34m\u001b[0m\u001b[0m\n\u001b[1;32m      7\u001b[0m     \u001b[0mwayID\u001b[0m \u001b[0;34m=\u001b[0m \u001b[0moriginalway\u001b[0m\u001b[0;34m.\u001b[0m\u001b[0mattrib\u001b[0m\u001b[0;34m[\u001b[0m\u001b[0;34m'id'\u001b[0m\u001b[0;34m]\u001b[0m\u001b[0;34m\u001b[0m\u001b[0;34m\u001b[0m\u001b[0m\n\u001b[0;32m----> 8\u001b[0;31m     \u001b[0mneworiginalway\u001b[0m \u001b[0;34m=\u001b[0m \u001b[0mnewroot\u001b[0m\u001b[0;34m.\u001b[0m\u001b[0mfind\u001b[0m\u001b[0;34m(\u001b[0m\u001b[0;34m\"./way/[@id='\"\u001b[0m\u001b[0;34m+\u001b[0m\u001b[0mwayID\u001b[0m\u001b[0;34m+\u001b[0m\u001b[0;34m\"']\"\u001b[0m\u001b[0;34m)\u001b[0m\u001b[0;34m\u001b[0m\u001b[0;34m\u001b[0m\u001b[0m\n\u001b[0m\u001b[1;32m      9\u001b[0m     \u001b[0mCheckNodesForSpeeds\u001b[0m\u001b[0;34m(\u001b[0m\u001b[0mwayID\u001b[0m\u001b[0;34m,\u001b[0m \u001b[0mneworiginalway\u001b[0m\u001b[0;34m,\u001b[0m \u001b[0mcityunits\u001b[0m\u001b[0;34m)\u001b[0m\u001b[0;34m\u001b[0m\u001b[0;34m\u001b[0m\u001b[0m\n\u001b[1;32m     10\u001b[0m \u001b[0;34m\u001b[0m\u001b[0m\n",
      "\u001b[0;32m~/opt/anaconda3/lib/python3.9/xml/etree/ElementPath.py\u001b[0m in \u001b[0;36mfind\u001b[0;34m(elem, path, namespaces)\u001b[0m\n\u001b[1;32m    387\u001b[0m \u001b[0;34m\u001b[0m\u001b[0m\n\u001b[1;32m    388\u001b[0m \u001b[0;32mdef\u001b[0m \u001b[0mfind\u001b[0m\u001b[0;34m(\u001b[0m\u001b[0melem\u001b[0m\u001b[0;34m,\u001b[0m \u001b[0mpath\u001b[0m\u001b[0;34m,\u001b[0m \u001b[0mnamespaces\u001b[0m\u001b[0;34m=\u001b[0m\u001b[0;32mNone\u001b[0m\u001b[0;34m)\u001b[0m\u001b[0;34m:\u001b[0m\u001b[0;34m\u001b[0m\u001b[0;34m\u001b[0m\u001b[0m\n\u001b[0;32m--> 389\u001b[0;31m     \u001b[0;32mreturn\u001b[0m \u001b[0mnext\u001b[0m\u001b[0;34m(\u001b[0m\u001b[0miterfind\u001b[0m\u001b[0;34m(\u001b[0m\u001b[0melem\u001b[0m\u001b[0;34m,\u001b[0m \u001b[0mpath\u001b[0m\u001b[0;34m,\u001b[0m \u001b[0mnamespaces\u001b[0m\u001b[0;34m)\u001b[0m\u001b[0;34m,\u001b[0m \u001b[0;32mNone\u001b[0m\u001b[0;34m)\u001b[0m\u001b[0;34m\u001b[0m\u001b[0;34m\u001b[0m\u001b[0m\n\u001b[0m\u001b[1;32m    390\u001b[0m \u001b[0;34m\u001b[0m\u001b[0m\n\u001b[1;32m    391\u001b[0m \u001b[0;31m##\u001b[0m\u001b[0;34m\u001b[0m\u001b[0;34m\u001b[0m\u001b[0m\n",
      "\u001b[0;32m~/opt/anaconda3/lib/python3.9/xml/etree/ElementPath.py\u001b[0m in \u001b[0;36mselect\u001b[0;34m(context, result)\u001b[0m\n\u001b[1;32m    259\u001b[0m         \u001b[0mvalue\u001b[0m \u001b[0;34m=\u001b[0m \u001b[0mpredicate\u001b[0m\u001b[0;34m[\u001b[0m\u001b[0;34m-\u001b[0m\u001b[0;36m1\u001b[0m\u001b[0;34m]\u001b[0m\u001b[0;34m\u001b[0m\u001b[0;34m\u001b[0m\u001b[0m\n\u001b[1;32m    260\u001b[0m         \u001b[0;32mdef\u001b[0m \u001b[0mselect\u001b[0m\u001b[0;34m(\u001b[0m\u001b[0mcontext\u001b[0m\u001b[0;34m,\u001b[0m \u001b[0mresult\u001b[0m\u001b[0;34m)\u001b[0m\u001b[0;34m:\u001b[0m\u001b[0;34m\u001b[0m\u001b[0;34m\u001b[0m\u001b[0m\n\u001b[0;32m--> 261\u001b[0;31m             \u001b[0;32mfor\u001b[0m \u001b[0melem\u001b[0m \u001b[0;32min\u001b[0m \u001b[0mresult\u001b[0m\u001b[0;34m:\u001b[0m\u001b[0;34m\u001b[0m\u001b[0;34m\u001b[0m\u001b[0m\n\u001b[0m\u001b[1;32m    262\u001b[0m                 \u001b[0;32mif\u001b[0m \u001b[0melem\u001b[0m\u001b[0;34m.\u001b[0m\u001b[0mget\u001b[0m\u001b[0;34m(\u001b[0m\u001b[0mkey\u001b[0m\u001b[0;34m)\u001b[0m \u001b[0;34m==\u001b[0m \u001b[0mvalue\u001b[0m\u001b[0;34m:\u001b[0m\u001b[0;34m\u001b[0m\u001b[0;34m\u001b[0m\u001b[0m\n\u001b[1;32m    263\u001b[0m                     \u001b[0;32myield\u001b[0m \u001b[0melem\u001b[0m\u001b[0;34m\u001b[0m\u001b[0;34m\u001b[0m\u001b[0m\n",
      "\u001b[0;32m~/opt/anaconda3/lib/python3.9/xml/etree/ElementPath.py\u001b[0m in \u001b[0;36mselect\u001b[0;34m(context, result)\u001b[0m\n\u001b[1;32m    165\u001b[0m             \u001b[0;32mfor\u001b[0m \u001b[0melem\u001b[0m \u001b[0;32min\u001b[0m \u001b[0mresult\u001b[0m\u001b[0;34m:\u001b[0m\u001b[0;34m\u001b[0m\u001b[0;34m\u001b[0m\u001b[0m\n\u001b[1;32m    166\u001b[0m                 \u001b[0;32mfor\u001b[0m \u001b[0me\u001b[0m \u001b[0;32min\u001b[0m \u001b[0melem\u001b[0m\u001b[0;34m:\u001b[0m\u001b[0;34m\u001b[0m\u001b[0;34m\u001b[0m\u001b[0m\n\u001b[0;32m--> 167\u001b[0;31m                     \u001b[0;32mif\u001b[0m \u001b[0me\u001b[0m\u001b[0;34m.\u001b[0m\u001b[0mtag\u001b[0m \u001b[0;34m==\u001b[0m \u001b[0mtag\u001b[0m\u001b[0;34m:\u001b[0m\u001b[0;34m\u001b[0m\u001b[0;34m\u001b[0m\u001b[0m\n\u001b[0m\u001b[1;32m    168\u001b[0m                         \u001b[0;32myield\u001b[0m \u001b[0me\u001b[0m\u001b[0;34m\u001b[0m\u001b[0;34m\u001b[0m\u001b[0m\n\u001b[1;32m    169\u001b[0m     \u001b[0;32mreturn\u001b[0m \u001b[0mselect\u001b[0m\u001b[0;34m\u001b[0m\u001b[0;34m\u001b[0m\u001b[0m\n",
      "\u001b[0;31mKeyboardInterrupt\u001b[0m: "
     ]
    }
   ],
   "source": [
    "## Run the functions on all the ways in the osm xml tree\n",
    "\n",
    "start = timer()\n",
    "\n",
    "print('starting speed augmentation...')\n",
    "for i,originalway in enumerate(root.findall(\"./way\")):\n",
    "    wayID = originalway.attrib['id']\n",
    "    neworiginalway = newroot.find(\"./way/[@id='\"+wayID+\"']\")\n",
    "    CheckNodesForSpeeds(wayID, neworiginalway, cityunits)\n",
    "    \n",
    "    \n",
    "    if i in checkpoints: \n",
    "        bookmark = timer()\n",
    "        progress = int(i/(number_ofways-1)*100)\n",
    "        print(f'{progress}% completed in {np.round((bookmark - start)/60)} minutes...')\n",
    "\n",
    "        \n",
    "    # delete ways with ref nodes 1 or fewer\n",
    "    if len(neworiginalway.findall(\"./nd\")) < 2: newroot.remove(neworiginalway)\n",
    "        \n",
    "end = timer()\n",
    "print(f'100% completed in {np.round((end- start)/60)} minutes!')"
   ]
  },
  {
   "cell_type": "code",
   "execution_count": 10,
   "id": "b760c50d",
   "metadata": {},
   "outputs": [],
   "source": [
    "# output it to .osm file\n",
    "\n",
    "tree.write(output_file_name, encoding=\"utf-8\",xml_declaration=True)"
   ]
  },
  {
   "cell_type": "code",
   "execution_count": 38,
   "id": "703212dc",
   "metadata": {
    "scrolled": false
   },
   "outputs": [
    {
     "name": "stdout",
     "output_type": "stream",
     "text": [
      "Variable                Type                          Data/Info\n",
      "---------------------------------------------------------------\n",
      "CheckNodesForSpeeds     function                      <function CheckNodesForSpeeds at 0x7ff3af56ce50>\n",
      "CopyNodes               function                      <function CopyNodes at 0x7ff3af56cee0>\n",
      "ET                      module                        <module 'xml.etree.Elemen<...>ml/etree/ElementTree.py'>\n",
      "avgspeed                str                           /Users/askalila/Documents<...>/avg_speeds/sf_output.csv\n",
      "checkpoints             list                          n=7\n",
      "cityunits               str                           mph\n",
      "copy                    module                        <module 'copy' from '/Use<...>3/lib/python3.9/copy.py'>\n",
      "gc                      module                        <module 'gc' (built-in)>\n",
      "i                       int                           0\n",
      "ipython_vars            list                          n=6\n",
      "j                       float                         0.99\n",
      "neworiginalway          NoneType                      None\n",
      "newroot                 Element                       <Element 'osm' at 0x7ff4c93d3130>\n",
      "newwayID_seed           int                           1000\n",
      "np                      module                        <module 'numpy' from '/Us<...>kages/numpy/__init__.py'>\n",
      "number_ofways           int                           394579\n",
      "number_ofways_newroot   int                           394579\n",
      "originalway             Element                       <Element 'way' at 0x7ff354dc0130>\n",
      "output_file_name        str                           extended_sf_test4.osm\n",
      "pd                      module                        <module 'pandas' from '/U<...>ages/pandas/__init__.py'>\n",
      "road_path               str                           /Users/askalila/Documents<...>/original/extended_sf.osm\n",
      "root                    Element                       <Element 'osm' at 0x7ff68845d9f0>\n",
      "speedsDFpeak            DataFrame                             osm_way_id  osm_s<...>[485401 rows x 4 columns]\n",
      "start                   float                         2193.218988292\n",
      "sys                     module                        <module 'sys' (built-in)>\n",
      "timer                   builtin_function_or_method    <built-in function perf_counter>\n",
      "tree                    ElementTree                   <xml.etree.ElementTree.El<...>object at 0x7ff45b599310>\n",
      "wayID                   str                           4307859\n"
     ]
    }
   ],
   "source": [
    "%whos"
   ]
  },
  {
   "cell_type": "code",
   "execution_count": 12,
   "id": "5211c4f0",
   "metadata": {},
   "outputs": [
    {
     "data": {
      "text/plain": [
       "[('newroot', 26167760),\n",
       " ('root', 25106064),\n",
       " ('speedsDFpeak', 15532976),\n",
       " ('road_path', 159),\n",
       " ('avgspeed', 149),\n",
       " ('output_file_name', 81),\n",
       " ('ET', 72),\n",
       " ('np', 72),\n",
       " ('pd', 72),\n",
       " ('timer', 72),\n",
       " ('cityunits', 52),\n",
       " ('tree', 48),\n",
       " ('newwayID_seed', 28)]"
      ]
     },
     "execution_count": 12,
     "metadata": {},
     "output_type": "execute_result"
    }
   ],
   "source": [
    "import sys\n",
    "\n",
    "# These are the usual ipython objects, including this one you are creating\n",
    "ipython_vars = ['In', 'Out', 'exit', 'quit', 'get_ipython', 'ipython_vars']\n",
    "\n",
    "# Get a sorted list of the objects and their sizes\n",
    "sorted([(x, sys.getsizeof(globals().get(x))) for x in dir() if not x.startswith('_') and x not in sys.modules and x not in ipython_vars], key=lambda x: x[1], reverse=True)\n"
   ]
  },
  {
   "cell_type": "code",
   "execution_count": 42,
   "id": "45d1cff7",
   "metadata": {},
   "outputs": [
    {
     "name": "stdout",
     "output_type": "stream",
     "text": [
      "<way id=\"4307859\" version=\"8\" timestamp=\"2018-09-24T04:17:29Z\" uid=\"8254810\" user=\"gireeshn\" changeset=\"62866649\">\n",
      "    <nd ref=\"519533963\" />\n",
      "    <nd ref=\"2465053159\" />\n",
      "    <nd ref=\"5621056940\" />\n",
      "    <nd ref=\"26066107\" />\n",
      "    <nd ref=\"26066111\" />\n",
      "    <nd ref=\"767478544\" />\n",
      "    <nd ref=\"26066113\" />\n",
      "    <tag k=\"highway\" v=\"service\" />\n",
      "  </way>\n",
      "  \n",
      "<way id=\"4311275\" version=\"46\" timestamp=\"2021-04-14T09:34:26Z\" uid=\"11335781\" user=\"cpligovka_lyft\" changeset=\"102918742\">\n",
      "    <nd ref=\"32927063\" />\n",
      "    <nd ref=\"2262036212\" />\n",
      "    <nd ref=\"30033688\" />\n",
      "    <nd ref=\"989840971\" />\n",
      "    <nd ref=\"989840976\" />\n",
      "    <nd ref=\"2262036223\" />\n",
      "    <nd ref=\"29891969\" />\n",
      "    <nd ref=\"2262493188\" />\n",
      "    <tag k=\"NHS\" v=\"STRAHNET\" />\n",
      "    <tag k=\"bicycle\" v=\"no\" />\n",
      "    <tag k=\"hgv\" v=\"designated\" />\n",
      "    <tag k=\"hgv:national_network\" v=\"yes\" />\n",
      "    <tag k=\"highway\" v=\"motorway\" />\n",
      "    <tag k=\"lanes\" v=\"4\" />\n",
      "    <tag k=\"maxspeed\" v=\"65 mph\" />\n",
      "    <tag k=\"name\" v=\"Bayshore Freeway\" />\n",
      "    <tag k=\"oneway\" v=\"yes\" />\n",
      "    <tag k=\"ref\" v=\"US 101\" />\n",
      "    <tag k=\"source:hgv:national_network\" v=\"Title 23: Highways Part 658 http://ecfr.gpoaccess.gov/cgi/t/text/text-idx?c=ecfr&amp;rgn=div5&amp;view=text&amp;node=23:1.0.1.7.33&amp;idno=23\" />\n",
      "  </way>\n",
      "  \n",
      "<way id=\"4311277\" version=\"74\" timestamp=\"2021-11-05T20:45:50Z\" uid=\"33757\" user=\"Minh Nguyen\" changeset=\"113426629\">\n",
      "    <nd ref=\"26028708\" />\n",
      "    <nd ref=\"2371003215\" />\n",
      "    <nd ref=\"26678537\" />\n",
      "    <tag k=\"bicycle\" v=\"yes\" />\n",
      "    <tag k=\"cycleway:right\" v=\"lane\" />\n",
      "    <tag k=\"expressway\" v=\"yes\" />\n",
      "    <tag k=\"highway\" v=\"primary\" />\n",
      "    <tag k=\"lanes\" v=\"2\" />\n",
      "    <tag k=\"maxspeed\" v=\"35 mph\" />\n",
      "    <tag k=\"name\" v=\"Central Expressway\" />\n",
      "    <tag k=\"note\" v=\"adding odbl tag to match split of way and remove tainted tags\" />\n",
      "    <tag k=\"oneway\" v=\"yes\" />\n",
      "    <tag k=\"ref\" v=\"G6\" />\n",
      "    <tag k=\"sidewalk\" v=\"no\" />\n",
      "    <tag k=\"wikidata\" v=\"Q109417354\" />\n",
      "  </way>\n",
      "  \n"
     ]
    }
   ],
   "source": [
    "for i,originalway in enumerate(root.findall(\"./way\")):\n",
    "    wayID = originalway.attrib['id']\n",
    "    ET.dump(originalway)\n",
    "    if i==2:\n",
    "        break"
   ]
  },
  {
   "cell_type": "code",
   "execution_count": 43,
   "id": "5f50ad1c",
   "metadata": {},
   "outputs": [
    {
     "name": "stdout",
     "output_type": "stream",
     "text": [
      "<way id=\"4311277\" version=\"74\" timestamp=\"2021-11-05T20:45:50Z\" uid=\"33757\" user=\"Minh Nguyen\" changeset=\"113426629\">\n",
      "    <nd ref=\"26028708\" />\n",
      "    <nd ref=\"2371003215\" />\n",
      "    <nd ref=\"26678537\" />\n",
      "    <tag k=\"bicycle\" v=\"yes\" />\n",
      "    <tag k=\"cycleway:right\" v=\"lane\" />\n",
      "    <tag k=\"expressway\" v=\"yes\" />\n",
      "    <tag k=\"highway\" v=\"primary\" />\n",
      "    <tag k=\"lanes\" v=\"2\" />\n",
      "    <tag k=\"maxspeed\" v=\"35 mph\" />\n",
      "    <tag k=\"name\" v=\"Central Expressway\" />\n",
      "    <tag k=\"note\" v=\"adding odbl tag to match split of way and remove tainted tags\" />\n",
      "    <tag k=\"oneway\" v=\"yes\" />\n",
      "    <tag k=\"ref\" v=\"G6\" />\n",
      "    <tag k=\"sidewalk\" v=\"no\" />\n",
      "    <tag k=\"wikidata\" v=\"Q109417354\" />\n",
      "  </way>\n",
      "  \n"
     ]
    }
   ],
   "source": [
    "neworiginalway = newroot.find(\"./way/[@id='\"+wayID+\"']\")\n",
    "# neworiginalway = newroot.find(\"./way/[@id='4307859']\")\n",
    "ET.dump(neworiginalway)"
   ]
  },
  {
   "cell_type": "code",
   "execution_count": 34,
   "id": "fda92297",
   "metadata": {},
   "outputs": [],
   "source": [
    "newroot.remove(neworiginalway)"
   ]
  },
  {
   "cell_type": "code",
   "execution_count": 47,
   "id": "2fe8d96d",
   "metadata": {},
   "outputs": [
    {
     "data": {
      "text/plain": [
       "[('newroot', 21735880),\n",
       " ('root', 19836832),\n",
       " ('speedsDFpeak', 15532976),\n",
       " ('neworiginalway', 328),\n",
       " ('originalway', 200),\n",
       " ('avgspeed', 149),\n",
       " ('road_path', 148),\n",
       " ('CheckNodesForSpeeds', 136),\n",
       " ('CopyNodes', 136),\n",
       " ('checkpoints', 120),\n",
       " ('ET', 72),\n",
       " ('np', 72),\n",
       " ('pd', 72),\n",
       " ('timer', 72),\n",
       " ('output_file_name', 70),\n",
       " ('wayID', 56),\n",
       " ('cityunits', 52),\n",
       " ('tree', 48),\n",
       " ('i', 28),\n",
       " ('newwayID_seed', 28),\n",
       " ('number_ofways', 28),\n",
       " ('number_ofways_newroot', 28),\n",
       " ('progress', 28),\n",
       " ('bookmark', 24),\n",
       " ('j', 24),\n",
       " ('start', 24)]"
      ]
     },
     "execution_count": 47,
     "metadata": {},
     "output_type": "execute_result"
    }
   ],
   "source": [
    "sorted([(x, sys.getsizeof(globals().get(x))) for x in dir() if not x.startswith('_') and x not in sys.modules and x not in ipython_vars], key=lambda x: x[1], reverse=True)\n"
   ]
  },
  {
   "cell_type": "code",
   "execution_count": null,
   "id": "210cc77d",
   "metadata": {},
   "outputs": [],
   "source": []
  }
 ],
 "metadata": {
  "kernelspec": {
   "display_name": "Python 3 (ipykernel)",
   "language": "python",
   "name": "python3"
  },
  "language_info": {
   "codemirror_mode": {
    "name": "ipython",
    "version": 3
   },
   "file_extension": ".py",
   "mimetype": "text/x-python",
   "name": "python",
   "nbconvert_exporter": "python",
   "pygments_lexer": "ipython3",
   "version": "3.9.7"
  }
 },
 "nbformat": 4,
 "nbformat_minor": 5
}
